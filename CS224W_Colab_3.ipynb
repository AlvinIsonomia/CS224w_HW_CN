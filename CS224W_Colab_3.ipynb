{
 "cells": [
  {
   "cell_type": "markdown",
   "metadata": {
    "id": "XuXWJLEm2UWS"
   },
   "source": [
    "# **CS224W - Colab 3**\n",
    "\n",
    "**源代码没有在 GPU 跑，我就改了一下**\n",
    "\n",
    "在 Colab 2 中，我们使用 PyTorch Geometric 中内置的 GCN 层，即`GCNConv`，构建 GNN 模型。 在此 Colab 中，我们将直接实现 **GraphSAGE** ([Hamilton 等 (2017)](https://arxiv.org/abs/1706.02216)) 和 **GAT**（[Veličković 等（2018)](https://arxiv.org/abs/1710.10903)) 层。 \n",
    "之后，在 CORA 数据集上运行我们的模型，这是一个标准的引文网络基准数据集。\n",
    "\n",
    "然后，我们将使用 [DeepSNAP](https://snap.stanford.edu/deepsnap/)，这是一个 Python 库，有助于对图进行高效的深度学习，在不同的设置中拆分图并应用数据集转换。\n",
    "\n",
    "最后，使用 DeepSNAP 的转导链接预测拆分功能（transductive link prediction split functionality），我们将在边属性预测（链接预测）任务上构建一个简单的 GNN 模型。\n",
    "\n",
    "**注意**：确保**依次运行每个部分中的所有单元格**，以便中间变量/包会延续到下一个单元格\n",
    "\n",
    "在 Colab 3 上玩得开心 0v0\n",
    "\n",
    "## Preliminaries: 啥是 Message Passing？\n",
    "注：这里有一个用 PyG 创建 Message Passing GNN 的[官方文档](https://pytorch-geometric.readthedocs.io/en/latest/notes/create_gnn.html)\n",
    "\n",
    "这里的 MessagePassing 基础类就是在 forward 中执行 message passing，分为以下几步\n",
    "1. Pre-processing\n",
    "2. Propagate（x_central, x_neighbor: 他们可以使用相同的表示，维度为 N x d）\n",
    "    1. message：将邻居节点的 information 转为 message （x_i，x_j：维度为 E x d）：通过Propagate 传入的 x_central，或者 x_neighbor 的 lookup 在所有边上的嵌入的联合体。\n",
    "    2. aggregate：将邻居节点的 message 汇总到一起\n",
    "    3. update：更新节点嵌入（具体见上面那个官方文档）， 这个作业里不显式调用 update 而是直接写在 forward 里\n",
    "3. Post-processing\n",
    "*PS：_i 指的就是中心点， 而 _j 指的是邻居*\n",
    "\n",
    "\n",
    "\n",
    "In Colab 2 we constructed GNN models by using PyTorch Geometric built in GCN layer, the `GCNConv`. In this Colab we will implement the **GraphSAGE** ([Hamilton et al. (2017)](https://arxiv.org/abs/1706.02216)) and **GAT** ([Veličković et al. (2018)](https://arxiv.org/abs/1710.10903)) layers directly. Then we will run our models on the CORA dataset, which is a standard citation network benchmark dataset.\n",
    "\n",
    "We will then use [DeepSNAP](https://snap.stanford.edu/deepsnap/), a Python library assisting efficient deep learning on graphs, to split the graphs in different settings and apply dataset transformations.\n",
    "\n",
    "At last, using DeepSNAP transductive link prediction split functionality, we will construct a simple GNN model on the edge property predition (link prediction) task.\n",
    "\n",
    "**Note**: Make sure to **sequentially run all the cells in each section**, so that the intermediate variables / packages will carry over to the next cell\n",
    "\n",
    "Have fun on Colab 3 :)"
   ]
  },
  {
   "cell_type": "markdown",
   "metadata": {
    "id": "MSaetj53YnT6"
   },
   "source": [
    "# Device\n",
    "You might need to use GPU for this Colab.\n",
    "\n",
    "Please click `Runtime` and then `Change runtime type`. Then set the `hardware accelerator` to **GPU**."
   ]
  },
  {
   "cell_type": "markdown",
   "metadata": {
    "id": "67gOQITlCNQi"
   },
   "source": [
    "## Installation"
   ]
  },
  {
   "cell_type": "code",
   "execution_count": 1,
   "metadata": {
    "id": "J_m9l6OYCQZP"
   },
   "outputs": [
    {
     "data": {
      "text/plain": [
       "'!pip install -q torch-scatter -f https://pytorch-geometric.com/whl/torch-1.7.0+cu101.html\\n!pip install -q torch-sparse -f https://pytorch-geometric.com/whl/torch-1.7.0+cu101.html\\n!pip install -q torch-geometric\\n!pip install -q git+https://github.com/snap-stanford/deepsnap.git'"
      ]
     },
     "execution_count": 1,
     "metadata": {},
     "output_type": "execute_result"
    }
   ],
   "source": [
    "# pip -q 指的是 quiet，不出意外就不通知你，所以得耐心等一下哦~\n",
    "\n",
    "# 急得话也可以把 -q 去掉\n",
    "\n",
    "'''!pip install -q torch-scatter -f https://pytorch-geometric.com/whl/torch-1.7.0+cu101.html\n",
    "!pip install -q torch-sparse -f https://pytorch-geometric.com/whl/torch-1.7.0+cu101.html\n",
    "!pip install -q torch-geometric\n",
    "!pip install -q git+https://github.com/snap-stanford/deepsnap.git'''\n",
    "\n"
   ]
  },
  {
   "cell_type": "code",
   "execution_count": 2,
   "metadata": {
    "id": "PRfgbfTjCRD_"
   },
   "outputs": [
    {
     "data": {
      "text/plain": [
       "'1.7.1'"
      ]
     },
     "execution_count": 2,
     "metadata": {},
     "output_type": "execute_result"
    }
   ],
   "source": [
    "import torch_geometric\n",
    "torch_geometric.__version__"
   ]
  },
  {
   "cell_type": "markdown",
   "metadata": {
    "id": "ZoXlf4MtYrbz"
   },
   "source": [
    "# 1 GNN Layers"
   ]
  },
  {
   "cell_type": "markdown",
   "metadata": {
    "id": "TQy2RBfgYut4"
   },
   "source": [
    "## 实现 Layer Modules\n",
    "\n",
    "在 colab 2 中，我们在节点和图分类任务中使用 GCN 实现了一个网络。 但是，我们在 colab 2 中使用的 GCN 模块来自官方库。 对于这个问题，我们将为您提供一个通用的 Graph Neural Network Stack，您可以在其中插入您自己的 GraphSAGE 和 GAT 模块。\n",
    "\n",
    "我们将使用我们的实现来完成 CORA 上的节点分类，CORA 是一个标准的引文网络基准数据集。 在这个数据集中:\n",
    "- 节点对应于文档，\n",
    "- 边对应于**无向**引用。 \n",
    "\n",
    "每个节点都有一个类标签，节点特征是文档的 bag-or-words 表示的元素。\n",
    "\n",
    "对于 Cora 数据集，有：\n",
    "- 2708 个节点、\n",
    "- 5429 条边、\n",
    "- 7 个节点预测类\n",
    "- 每个节点 1433 个特征。\n",
    "\n",
    "## Implementing Layer Modules\n",
    "\n",
    "In colab 2, we implemented a network using GCN in node and graph classification tasks. However, the GCN module we used in colab 2 is from the official library. For this problem, we will provide you with a general Graph Neural Network Stack, where you'll be able to plugin your own modules of GraphSAGE and GATs. We will use our implementations to complete node classification on CORA, which is a standard citation network benchmark dataset. In this dataset, nodes correspond to documents and edges correspond to undirected citations. Each node has a class label. The node features are elements of a bag-or-words representation of a document. For the Cora dataset, there are 2708 nodes, 5429 edges, 7 prediction classes for nodes, and 1433 features per node. "
   ]
  },
  {
   "cell_type": "markdown",
   "metadata": {
    "id": "H4ne6Gw-CT5G"
   },
   "source": [
    "## GNN Stack Module\n",
    "\n",
    "下面是一个通用的 GNN Module，可以插入各种层，包括 **GraphSage**, **GAT** 等等。\n",
    "这个模块是为您提供的，而你自己的 **GraphSage** 和 **GAT** 层将作为 GNNStack 模块中的组件。\n",
    "\n",
    "这里涉及到挺多函数的，比如 Pytorch 的 [Parameter](https://pytorch.org/docs/stable/generated/torch.nn.parameter.Parameter.html)\n",
    "\n",
    "\n",
    "## GNN Stack Module\n",
    "\n",
    "Below is the implementation for a general GNN Module that could plugin any layers, including **GraphSage**, **GAT**, etc. This module is provided for you, and you own **GraphSage** and **GAT** layers will function as components in the GNNStack Module."
   ]
  },
  {
   "cell_type": "code",
   "execution_count": 3,
   "metadata": {
    "id": "Ys8vZAFPCWWe"
   },
   "outputs": [],
   "source": [
    "import torch\n",
    "import torch_scatter\n",
    "import torch.nn as nn\n",
    "import torch.nn.functional as F\n",
    "\n",
    "import torch_geometric.nn as pyg_nn\n",
    "import torch_geometric.utils as pyg_utils\n",
    "\n",
    "from torch import Tensor\n",
    "from typing import Union, Tuple, Optional\n",
    "from torch_geometric.typing import (OptPairTensor, Adj, Size, NoneType,\n",
    "                                    OptTensor)\n",
    "\n",
    "from torch.nn import Parameter, Linear\n",
    "# Parameter 官方文档：https://pytorch.org/docs/stable/generated/torch.nn.parameter.Parameter.html\n",
    "\n",
    "from torch_sparse import SparseTensor, set_diag\n",
    "from torch_geometric.nn.conv import MessagePassing\n",
    "from torch_geometric.utils import remove_self_loops, add_self_loops, softmax\n",
    "\n",
    "class GNNStack(torch.nn.Module):\n",
    "    def __init__(self, input_dim, hidden_dim, output_dim, args, emb=False):\n",
    "        super(GNNStack, self).__init__()\n",
    "        conv_model = self.build_conv_model(args.model_type) # GraphSage / GAT\n",
    "        self.convs = nn.ModuleList()\n",
    "        self.convs.append(conv_model(input_dim, hidden_dim))\n",
    "        assert (args.num_layers >= 1), 'Number of layers is not >=1'\n",
    "        # 断言，若 num_layers >= 1 为假则抛出异常\n",
    "        for l in range(args.num_layers-1):\n",
    "            self.convs.append(conv_model(args.heads * hidden_dim, hidden_dim))\n",
    "            # 已支持多头注意力机制\n",
    "            \n",
    "        # post-message-passing\n",
    "        # 后信息传递\n",
    "        self.post_mp = nn.Sequential(\n",
    "            nn.Linear(args.heads * hidden_dim, hidden_dim), nn.Dropout(args.dropout), \n",
    "            nn.Linear(hidden_dim, output_dim))\n",
    "\n",
    "        self.dropout = args.dropout\n",
    "        self.num_layers = args.num_layers\n",
    "\n",
    "        self.emb = emb\n",
    "\n",
    "    def build_conv_model(self, model_type):\n",
    "        if model_type == 'GraphSage':\n",
    "            return GraphSage\n",
    "        elif model_type == 'GAT':\n",
    "            '''\n",
    "            当使用 GAT，且 heads 的数量大于 1 时，\n",
    "            需要需改卷积层（self.convs）输入和输出的维度，\n",
    "            以保下一层的输入维度是 num heads 乘上前一层的输出维度\n",
    "            提示：如果你想搞个 multiheads，你需要改动建立 self.convs 的 for-循环：\n",
    "            self.convs.append(conv_model(hidden_dim * num_heads, hidden_dim)),\n",
    "            并将后信息传递（post-message-passing）的第一个线性层改为：\n",
    "            nn.Linear(hidden_dim * num_heads, hidden_dim)\n",
    "            '''\n",
    "            # When applying GAT with num heads > 1, one needs to modify the \n",
    "            # input and output dimension of the conv layers (self.convs),\n",
    "            # to ensure that the input dim of the next layer is num heads\n",
    "            # multiplied by the output dim of the previous layer.\n",
    "            # HINT: In case you want to play with multiheads, you need to change the for-loop when builds up self.convs to be\n",
    "            # self.convs.append(conv_model(hidden_dim * num_heads, hidden_dim)), \n",
    "            # and also the first nn.Linear(hidden_dim * num_heads, hidden_dim) in post-message-passing.\n",
    "            return GAT\n",
    "\n",
    "    def forward(self, data):\n",
    "        x, edge_index, batch = data.x, data.edge_index, data.batch\n",
    "          \n",
    "        for i in range(self.num_layers):\n",
    "            x = self.convs[i](x, edge_index)\n",
    "            x = F.relu(x)\n",
    "            x = F.dropout(x, p=self.dropout)\n",
    "\n",
    "        x = self.post_mp(x)\n",
    "\n",
    "        if self.emb == True:\n",
    "            return x\n",
    "\n",
    "        return F.log_softmax(x, dim=1) # 这个 dim 必须要指定好了\n",
    "\n",
    "    def loss(self, pred, label):\n",
    "        return F.nll_loss(pred, label)\n",
    "    # 上面的是负对数似然 NLL Loss\n",
    "    #https://pytorch.org/docs/stable/_modules/torch/nn/functional.html#nll_loss"
   ]
  },
  {
   "cell_type": "markdown",
   "metadata": {
    "id": "syDtxjxoCZgq"
   },
   "source": [
    "## GraphSage 实现\n",
    "\n",
    "现在让我们开始实现我们自己的层！这部分是为了熟悉如何实现基于消息传递（Message Passing）的 Pytorch 层。您将实现 **forward**、**message** 和 **aggregate** 函数。\n",
    "\n",
    "通常，**forward** 函数是进行实际消息传递的地方。每次迭代中的所有逻辑都发生在 **forward** 中，我们将调用 **propagate** 函数将信息从邻居节点传播到中心节点。所以一般范式将是预处理 -> 传播 -> 后处理。\n",
    "\n",
    "回想一下我们在作业1中介绍的消息传递过程。**propagate** 进一步调用 **message** 将邻居节点的信息转化为消息，**aggregate** 将邻居节点的所有消息聚合为一个，**update** 在下一次迭代中进一步生成节点的嵌入。\n",
    "\n",
    "我们的实现与此略有不同，我们不会显式实现 **update**，而是将更新节点的逻辑放在 **forward** 函数中。更具体地说，信息传播后，我们可以进一步对 **propagate** 的输出进行一些操作。 **forward** 的输出正是当前迭代之后的嵌入。\n",
    "\n",
    "此外，传递给 **propagate()** 的张量可以通过将 _i 或 _j 附加到变量名称来映射到相应的节点 $i$ 和 $j$，例如 x_i 和 x_j。请注意，我们通常将 $i$ 称为聚合信息的中心节点，将 $j$ 称为相邻节点，因为这是最常见的表示法。\n",
    "\n",
    "请在评论（？）中找到更多详细信息。需要注意的一件事是我们正在向 GraphSage 添加**跳接**。形式上，我们模型的更新规则描述如下：\n",
    "\\begin{equation}\n",
    "h_v^{(l)} = W_l\\cdot h_v^{(l-1)} + W_r \\cdot AGG(\\{h_u^{(l-1)}, \\forall u \\in N(v) \\})\n",
    "\\end{equation}\n",
    "\n",
    "为了简化，我们在这使用均值聚合（mean aggregations）\n",
    "\n",
    "\\begin{equation}\n",
    "AGG(\\{h_u^{(l-1)}, \\forall u \\in N(v) \\}) = \\frac{1}{|N(v)|} \\sum_{u\\in N(v)} h_u^{(l-1)}\n",
    "\\end{equation}\n",
    "\n",
    "此外, 每一轮迭代之后都使用了 $\\ell$-2 正则化.\n",
    "\n",
    "为了正确地完成工作，我们必须了解不同的函数是如何相互作用的。 \n",
    "\n",
    "在 **propagate** 函数中，我们可以传入我们想要的任何参数。 例如，我们传入 $x$ 作为参数：\n",
    "\n",
    "... = propagate(..., $x$=($x_{central}$, $x_{neighbor}$), ...)\n",
    "\n",
    "其中 $x_{central}$ 与 $x_{neighbor}$ 表示来自 **central** 节点以及 **neighbor** 节点的特征。如果我们正在对中心与领域使用相同的表征， 那么 $x_{central}$ 与 $x_{neighbor}$ 应该是一样的.\n",
    "\n",
    "假设 $x_{central}$ 与 $x_{neighbor}$ 的形状皆为 N * d, 其中 N 为节点数,  d 为特征数.\n",
    "\n",
    "之后再消息（message）函数中，我们可接收名为 $x\\_i$ 和 $x\\_j$ 的参数. 通常 $x\\_i$ 表示 \"中心节点\", 而 $x\\_j$ 表示 \"邻居节点\". 注意这里两个参数的形状！$x\\_i$， $x\\_j$ 都是 E * d 大小的(**而不是 N!**). $x\\_i$ 通过查找我们在**propagate** 函数中传递的，将中心节点所有边的信息 $x_{central}$  concate 起来获得. \n",
    "类似地, $x\\_j$ 通过查找我们在**propagate** 函数中传递的，将邻居节点所有边的信息 $x_{neighbor}$ concate 起来获得。\n",
    "\n",
    "\n",
    "举个例子，假设有四个节点，因此 $x_{central}$ 与 $x_{neighbor}$ 的形状皆为 4 * d. 之后我们有两条边，(1, 2) 和 (3, 0). \n",
    "因此, $x\\_i$ 由 $[x_{central}[1]^T; x_{central}[3]^T]^T$ 获得, 而 $x\\_j$ 由 $[x_{neighbor}[2]^T; x_{neighbor}[0]^T]^T$ 获得\n",
    "\n",
    "<font color='red'> 不要在之后的问题中借鉴网上的实现！ </font>\n",
    "\n",
    "\n",
    "GraphSAGE的 message 就是原信号；aggregate 作两步:\n",
    " - 先聚合邻居信息（𝐴𝐺𝐺({ℎ(𝑙−1)𝑢,∀𝑢∈𝑁(𝑣)})）（在aggregate实现）；\n",
    " - 再将邻居总信息和上一层本节点信息聚合起来（𝑊𝑙⋅ℎ(𝑙−1)𝑣+𝑊𝑟⋅𝐴𝐺𝐺({ℎ(𝑙−1)𝑢,∀𝑢∈𝑁(𝑣)})）（在forward实现） \n",
    " \n",
    "（图片截自cs224w官方slides）\n",
    "![p2](./img/cs224w-colab3-2.png)\n",
    "\n",
    "\n",
    "\n",
    "## GraphSage Implementation\n",
    "\n",
    "\n",
    "Now let's start working on our own implementation of layers! This part is to get you familiar with how to implement Pytorch layer based on Message Passing. You will be implementing the **forward**, **message** and **aggregate** functions.\n",
    "\n",
    "Generally, the **forward** function is where the actual message passing is conducted. All logic in each iteration happens in **forward**, where we'll call **propagate** function to propagate information from neighbor nodes to central nodes.  So the general paradigm will be pre-processing -> propagate -> post-processing.\n",
    "\n",
    "Recall the process of message passing we introduced in homework 1. **propagate** further calls **message** which transforms information of neighbor nodes into messages, **aggregate** which aggregates all messages from neighbor nodes into one, and **update** which further generates the embedding for nodes in the next iteration.\n",
    "\n",
    "Our implementation is slightly variant from this, where we'll not explicitly implement **update**, but put the logic for updating nodes in **forward** function. To be more specific, after information is propagated, we can further conduct some operations on the output of **propagate**. The output of **forward** is exactly the embeddings after the current iteration.\n",
    "\n",
    "In addition, tensors passed to **propagate()** can be mapped to the respective nodes $i$ and $j$ by appending _i or _j to the variable name, .e.g. x_i and x_j. Note that we generally refer to $i$ as the central nodes that aggregates information, and refer to $j$ as the neighboring nodes, since this is the most common notation.\n",
    "\n",
    "Please find more details in the comments. One thing to note is that we're adding **skip connections** to our GraphSage. Formally, the update rule for our model is described as below:\n",
    "\n",
    "\\begin{equation}\n",
    "h_v^{(l)} = W_l\\cdot h_v^{(l-1)} + W_r \\cdot AGG(\\{h_u^{(l-1)}, \\forall u \\in N(v) \\})\n",
    "\\end{equation}\n",
    "\n",
    "For simplicity, we use mean aggregations where:\n",
    "\n",
    "\\begin{equation}\n",
    "AGG(\\{h_u^{(l-1)}, \\forall u \\in N(v) \\}) = \\frac{1}{|N(v)|} \\sum_{u\\in N(v)} h_u^{(l-1)}\n",
    "\\end{equation}\n",
    "\n",
    "Additionally, $\\ell$-2 normalization is applied after each iteration.\n",
    "\n",
    "In order to complete the work correctly, we have to understand how the different functions interact with each other. In **propagate** we can pass in any parameters we want. For example, we pass in $x$ as an parameter:\n",
    "\n",
    "... = propagate(..., $x$=($x_{central}$, $x_{neighbor}$), ...)\n",
    "\n",
    "Here $x_{central}$ and $x_{neighbor}$ represent the features from **central** nodes and from **neighbor** nodes. If we're using the same representations from central and neighbor, then $x_{central}$ and $x_{neighbor}$ could be identical.\n",
    "\n",
    "Suppose $x_{central}$ and $x_{neighbor}$ are both of shape N * d, where N is number of nodes, and d is dimension of features.\n",
    "\n",
    "Then in message function, we can take parameters called $x\\_i$ and $x\\_j$. Usually $x\\_i$ represents \"central nodes\", and $x\\_j$ represents \"neighbor nodes\". Pay attention to the shape here: $x\\_i$ and $x\\_j$ are both of shape E * d (**not N!**). $x\\_i$ is obtained by concatenating the embeddings of central nodes of all edges through lookups from $x_{central}$ we passed in propagate. Similarly, $x\\_j$ is obtained by concatenating the embeddings of neighbor nodes of all edges through lookups from $x_{neighbor}$ we passed in propagate.\n",
    "\n",
    "Let's look at an example. Suppose we have 4 nodes, so $x_{central}$ and $x_{neighbor}$ are of shape 4 * d. We have two edges (1, 2) and (3, 0). Thus, $x\\_i$ is obtained by $[x_{central}[1]^T; x_{central}[3]^T]^T$, and $x\\_j$ is obtained by $[x_{neighbor}[2]^T; x_{neighbor}[0]^T]^T$\n",
    "\n",
    "<font color='red'>For the following questions, DON'T refer to any existing implementations online.</font>"
   ]
  },
  {
   "cell_type": "code",
   "execution_count": 4,
   "metadata": {
    "colab": {
     "background_save": true
    },
    "id": "RwG4HqCFCaOD"
   },
   "outputs": [],
   "source": [
    "class GraphSage(MessagePassing):\n",
    "    \n",
    "    def __init__(self, in_channels, out_channels, normalize = True,\n",
    "                 bias = False, **kwargs):  \n",
    "        super(GraphSage, self).__init__(**kwargs)\n",
    "\n",
    "        self.in_channels = in_channels\n",
    "        self.out_channels = out_channels\n",
    "        self.normalize = normalize\n",
    "\n",
    "        self.lin_l = None\n",
    "        self.lin_r = None\n",
    "\n",
    "        ############################################################################\n",
    "        # TODO: Your code here! \n",
    "        # Define the layers needed for the message and update functions below.\n",
    "        # self.lin_l is the linear transformation that you apply to embedding \n",
    "        #            for central node.\n",
    "        # self.lin_r is the linear transformation that you apply to aggregated \n",
    "        #            message from neighbors.\n",
    "        # Our implementation is ~2 lines, but don't worry if you deviate from this.\n",
    "        '''\n",
    "        TODO: 实现 message 与 update 函数\n",
    "        self.lin_l 是对于中心节点嵌入的线性变换\n",
    "        self.lin_r 是对于邻居节点嵌入的线性变换\n",
    "        实现至多两行就行了，\n",
    "        '''\n",
    "        self.lin_l = Linear(in_channels, out_channels)\n",
    "        self.lin_r = Linear(in_channels, out_channels)\n",
    "        ############################################################################\n",
    "\n",
    "        self.reset_parameters()\n",
    "\n",
    "    def reset_parameters(self):\n",
    "        self.lin_l.reset_parameters() # 上式中 W_l\n",
    "        self.lin_r.reset_parameters() # 上式中 W_r\n",
    "\n",
    "    def forward(self, x, edge_index, size = None):\n",
    "        \"\"\"\"\"\"\n",
    "\n",
    "        out = None\n",
    "\n",
    "        ############################################################################\n",
    "        # TODO: Your code here! \n",
    "        # Implement message passing, as well as any post-processing (our update rule).\n",
    "        # 1. First call propagate function to conduct the message passing.\n",
    "        #    1.1 See there for more information: \n",
    "        #        https://pytorch-geometric.readthedocs.io/en/latest/notes/create_gnn.html\n",
    "        #    1.2 We use the same representations for central (x_central) and \n",
    "        #        neighbor (x_neighbor) nodes, which means you'll pass x=(x, x) \n",
    "        #        to propagate.\n",
    "        # 2. Update our node embedding with skip connection.\n",
    "        # 3. If normalize is set, do L-2 normalization (defined in \n",
    "        #    torch.nn.functional)\n",
    "        # Our implementation is ~5 lines, but don't worry if you deviate from this.\n",
    "        '''\n",
    "        TODO: 实现信息传递，以及任何的后处理，至多5行代码，超了也没事\n",
    "        1. 首先调用 propagate 函数以执行信息传递\n",
    "            1.1 参考 https://pytorch-geometric.readthedocs.io/en/latest/notes/create_gnn.html\n",
    "            1.2 我们对于中心 (x_central) 与邻居 (x_neighbor) 的节点使用相同的表征，因此传播用 x=(x,x)\n",
    "        2. 用跳接更新节点嵌入\n",
    "        3. 如果设定了 normalize，那么使用 L2 正则化（torch.nn.functional 里有）\n",
    "        PS 其实我不太明白所谓的跳接是啥意思，这里先用大佬的实现……\n",
    "        '''\n",
    "        out = self.propagate(edge_index,x=(x,x),size=size) # 调用 propagate, x=指的就是相同特征\n",
    "        x = self.lin_l(x)\n",
    "        out = self.lin_r(out)\n",
    "        out = out + x\n",
    "        if self.normalize:\n",
    "            out = F.normalize(out)\n",
    "        \n",
    "        ############################################################################\n",
    "\n",
    "        return out\n",
    "\n",
    "    def message(self, x_j):\n",
    "\n",
    "        out = None\n",
    "\n",
    "        ############################################################################\n",
    "        # TODO: Your code here! \n",
    "        # Implement your message function here.\n",
    "        # Our implementation is ~1 lines, but don't worry if you deviate from this.\n",
    "        '''\n",
    "        TODO：至多一行代码，实现 message 函数\n",
    "        '''\n",
    "        out = x_j # ?\n",
    "        \n",
    "        ############################################################################\n",
    "\n",
    "        return out\n",
    "\n",
    "    def aggregate(self, inputs, index, dim_size = None):\n",
    "\n",
    "        out = None\n",
    "\n",
    "        # The axis along which to index number of nodes.\n",
    "        #node_dim 是 PyG MessagePassing的参数：indicates along which axis to propagate.\n",
    "        node_dim = self.node_dim\n",
    "\n",
    "        ############################################################################\n",
    "        # TODO: Your code here! \n",
    "        # Implement your aggregate function here.\n",
    "        # See here as how to use torch_scatter.scatter: \n",
    "        # https://pytorch-scatter.readthedocs.io/en/latest/functions/scatter.html#torch_scatter.scatter\n",
    "        # Our implementation is ~1 lines, but don't worry if you deviate from this.\n",
    "        '''\n",
    "        TODO：实现你的 aggregate 函数。参考 torch_scatter.scatter 的官方文档:\n",
    "        https://pytorch-scatter.readthedocs.io/en/latest/functions/scatter.html#torch_scatter.scatter\n",
    "        '''\n",
    "        out = torch_scatter.scatter(inputs, index, node_dim,\n",
    "                                    dim_size = dim_size, reduce = 'mean')\n",
    "\n",
    "        ############################################################################\n",
    "\n",
    "        return out\n"
   ]
  },
  {
   "cell_type": "markdown",
   "metadata": {
    "id": "qjcfF3RACdLD"
   },
   "source": [
    "## GAT Implementation\n",
    "\n",
    "Attention mechanisms have become the state-of-the-art in many sequence-based tasks such as machine translation and learning sentence representations. One of the major benefits of attention-based mechanisms is their ability to focus on the most relevant parts of the input to make decisions. In this problem, we will see how attention mechanisms can be used to perform node classification of graph-structured data through the usage of Graph Attention Networks (GATs).\n",
    "\n",
    "The building block of the Graph Attention Network is the graph attention layer, which is a variant of the aggregation function . Let $N$ be the number of nodes and $F$ be the dimension of the feature vector for each node. The input to each graph attentional layer is a set of node features: $\\mathbf{h} = \\{\\overrightarrow{h_1}, \\overrightarrow{h_2}, \\dots, \\overrightarrow{h_N}$\\}, $\\overrightarrow{h_i} \\in R^F$. The output of each graph attentional layer is a new set of node features, which may have a new dimension $F'$: $\\mathbf{h'} = \\{\\overrightarrow{h_1'}, \\overrightarrow{h_2'}, \\dots, \\overrightarrow{h_N'}\\}$, with $\\overrightarrow{h_i'} \\in \\mathbb{R}^{F'}$.\n",
    "\n",
    "We will now describe this transformation of the input features into higher-level features performed by each graph attention layer. First, a shared linear transformation parametrized by the weight matrix $\\mathbf{W} \\in \\mathbb{R}^{F' \\times F}$ is applied to every node. Next, we perform self-attention on the nodes. We use a shared attentional mechanism:\n",
    "\\begin{equation} \n",
    "a : \\mathbb{R}^{F'} \\times \\mathbb{R}^{F'} \\rightarrow \\mathbb{R}.\n",
    "\\end{equation}\n",
    "\n",
    "This mechanism computes the attention coefficients that capture the importance of node $j$'s features to node $i$:\n",
    "\\begin{equation}\n",
    "e_{ij} = a(\\mathbf{W_l}\\overrightarrow{h_i}, \\mathbf{W_r} \\overrightarrow{h_j})\n",
    "\\end{equation}\n",
    "The most general formulation of self-attention allows every node to attend to all other nodes which drops all structural information. To utilize graph structure in the attention mechanisms, we can use masked attention. In masked attention, we only compute $e_{ij}$ for nodes $j \\in \\mathcal{N}_i$ where $\\mathcal{N}_i$ is some neighborhood of node $i$ in the graph.\n",
    "\n",
    "To easily compare coefficients across different nodes, we normalize the coefficients across $j$ using a softmax function:\n",
    "\\begin{equation}\n",
    "\\alpha_{ij} = \\text{softmax}_j(e_{ij}) = \\frac{\\exp(e_{ij})}{\\sum_{k \\in \\mathcal{N}_i} \\exp(e_{ik})}\n",
    "\\end{equation}\n",
    "\n",
    "For this problem, our attention mechanism $a$ will be a single-layer feedforward neural network parametrized by a weight vector $\\overrightarrow{a} \\in \\mathbb{R}^{F'}$, followed by a LeakyReLU nonlinearity (with negative input slope 0.2). Let $\\cdot^T$ represent transposition and $||$ represent concatenation. The coefficients computed by our attention mechanism may be expressed as:\n",
    "\n",
    "\\begin{equation}\n",
    "\\alpha_{ij} = \\frac{\\exp\\Big(\\text{LeakyReLU}\\Big(\\overrightarrow{a_l}^T \\mathbf{W_l} \\overrightarrow{h_i} + \\overrightarrow{a_r}^T\\mathbf{W_r}\\overrightarrow{h_j}\\Big)\\Big)}{\\sum_{k\\in \\mathcal{N}_i} \\exp\\Big(\\text{LeakyReLU}\\Big(\\overrightarrow{a_l}^T \\mathbf{W_l} \\overrightarrow{h_i} + \\overrightarrow{a_r}^T\\mathbf{W_r}\\overrightarrow{h_k}\\Big)\\Big)}\n",
    "\\end{equation}\n",
    "\n",
    "For the following questions, we denote $\\alpha_l = [...,\\overrightarrow{a_l}^T \\mathbf{W_l} \\overrightarrow{h_i},...]$ and $\\alpha_r = [..., \\overrightarrow{a_r}^T \\mathbf{W_r} \\overrightarrow{h_j}, ...]$.\n",
    "\n",
    "\n",
    "At every layer of GAT, after the attention coefficients are computed for that layer, the aggregation function can be computed by a weighted sum of neighborhood messages, where weights are specified by $\\alpha_{ij}$.\n",
    "\n",
    "Now, we use the normalized attention coefficients to compute a linear combination of the features corresponding to them. These aggregated features will serve as the final output features for every node.\n",
    "\n",
    "\\begin{equation}\n",
    "h_i' = \\sum_{j \\in \\mathcal{N}_i} \\alpha_{ij} \\mathbf{W_r} \\overrightarrow{h_j}.\n",
    "\\end{equation}\n",
    "\n",
    "To stabilize the learning process of self-attention, we use multi-head attention. To do this we use $K$ independent attention mechanisms, or ``heads'' compute output features as in the above equations. Then, we concatenate these output feature representations:\n",
    "\n",
    "\\begin{equation}\n",
    "    \\overrightarrow{h_i}' = ||_{k=1}^K \\Big(\\sum_{j \\in \\mathcal{N}_i} \\alpha_{ij}^{(k)} \\mathbf{W_r}^{(k)} \\overrightarrow{h_j}\\Big)\n",
    "\\end{equation}\n",
    "\n",
    "where $||$ is concentation, $\\alpha_{ij}^{(k)}$ are the normalized attention coefficients computed by the $k$-th attention mechanism $(a^k)$, and $\\mathbf{W}^{(k)}$ is the corresponding input linear transformation's weight matrix. Note that for this setting, $\\mathbf{h'} \\in \\mathbb{R}^{KF'}$."
   ]
  },
  {
   "cell_type": "markdown",
   "metadata": {},
   "source": [
    "## GAT 实现\n",
    "（翻译省去了一些和 GNN 无关的内容，不然太长）\n",
    "注意力机制现在是各类SOTA的基操，其好处在于可以关注输入最相关的内容并做出决策。\n",
    "本问题中，我们通过 Graph Attention Networks (GATs) 将看到注意力机制如何使用在图结构数据上的节点分类任务。\n",
    "\n",
    "GATs 的组成模块是图注意力层，它是 aggregation 函数的变体。令 $N$ 为节点数， $F$ 是每个节点特征的维度. 那么每个图注意力层的输入就是一个节点特征的集合: $\\mathbf{h} = \\{\\overrightarrow{h_1}, \\overrightarrow{h_2}, \\dots, \\overrightarrow{h_N}$\\}, $\\overrightarrow{h_i} \\in R^F$. 每个图注意力层的输出则是一个新的节点特征集合, 而可能特征拥有一个新的维度 $F'$: $\\mathbf{h'} = \\{\\overrightarrow{h_1'}, \\overrightarrow{h_2'}, \\dots, \\overrightarrow{h_N'}\\}$, 其中 $\\overrightarrow{h_i'} \\in \\mathbb{R}^{F'}$.\n",
    "\n",
    "我们现在描述每个图注意力层是怎么把输入特征转换到高阶特征的。\n",
    "首先，每个节点上都进行一个公用的线性变换，其有参数矩阵 $\\mathbf{W} \\in \\mathbb{R}^{F' \\times F}$. 之后，我们使用在每个节点上进行 self-attention. 我们使用的注意力机制也是共享的：\n",
    "\n",
    "\\begin{equation} \n",
    "a : \\mathbb{R}^{F'} \\times \\mathbb{R}^{F'} \\rightarrow \\mathbb{R}.\n",
    "\\end{equation}\n",
    "\n",
    "这个机制计算的注意力因子可以捕获节点 $j$ 的特征相对于节点 $i$ 的重要程度:\n",
    "\n",
    "\\begin{equation}\n",
    "e_{ij} = a(\\mathbf{W_l}\\overrightarrow{h_i}, \\mathbf{W_r} \\overrightarrow{h_j})\n",
    "\\end{equation}\n",
    "\n",
    "self-attention 最常见的形式允许每个节点和其他所有节点计算注意力，这就会丧失所有的结构信息。为了在注意力机制中使用结构信息，我们可以使用 masked attention。\n",
    "在 masked attention 中, 我们只计算 $e_{ij}$，其中 $j \\in \\mathcal{N}_i$ 而 $\\mathcal{N}_i$ 是图中节点 $i$ 的邻居.\n",
    "\n",
    "为了在不同的节点上更简单地比较注意力系数，我们使用了一个 softmax 函数来松弛化不同的 $j$ 对应的注意力因子:\n",
    "\n",
    "\\begin{equation}\n",
    "\\alpha_{ij} = \\text{softmax}_j(e_{ij}) = \\frac{\\exp(e_{ij})}{\\sum_{k \\in \\mathcal{N}_i} \\exp(e_{ik})}\n",
    "\\end{equation}\n",
    "\n",
    "本问题的注意力机制 $a$ 是一个单层的前馈神经网络，有一个权重向量进行参数化 $\\overrightarrow{a} \\in \\mathbb{R}^{F'}$, 之后接上一个 LeakyReLU 非线性 (负斜率 0.2). 令 $\\cdot^T$ 表示转置， $||$ 表示concate. \n",
    "那么，我们的注意力机制的计算可以表示为：\n",
    "\n",
    "\\begin{equation}\n",
    "\\alpha_{ij} = \\frac{\\exp\\Big(\\text{LeakyReLU}\\Big(\\overrightarrow{a_l}^T \\mathbf{W_l} \\overrightarrow{h_i} + \\overrightarrow{a_r}^T\\mathbf{W_r}\\overrightarrow{h_j}\\Big)\\Big)}{\\sum_{k\\in \\mathcal{N}_i} \\exp\\Big(\\text{LeakyReLU}\\Big(\\overrightarrow{a_l}^T \\mathbf{W_l} \\overrightarrow{h_i} + \\overrightarrow{a_r}^T\\mathbf{W_r}\\overrightarrow{h_k}\\Big)\\Big)}\n",
    "\\end{equation}\n",
    "\n",
    "在后续的问题中，我们令 $\\alpha_l = [...,\\overrightarrow{a_l}^T \\mathbf{W_l} \\overrightarrow{h_i},...]$， $\\alpha_r = [..., \\overrightarrow{a_r}^T \\mathbf{W_r} \\overrightarrow{h_j}, ...]$.\n",
    "\n",
    "在 GAT 的每一层，该层的注意力系数计算之后，aggregation 函数可以由邻居信息的加权求和计算，其中权重为 $\\alpha_{ij}$.\n",
    "\n",
    "现在，我们使用归一化的注意力系数来计算与它们对应的特征的线性组合。 这些聚合特征将作为每个节点的最终输出特征。\n",
    "\n",
    "\\begin{equation}\n",
    "h_i' = \\sum_{j \\in \\mathcal{N}_i} \\alpha_{ij} \\mathbf{W_r} \\overrightarrow{h_j}.\n",
    "\\end{equation}\n",
    "\n",
    "为了稳定 self-attention 的学习过程，我们使用多头注意力。也就是使用 $K$ 个独立的注意力机制，或者 ``heads`` 计算输出特征，如上述等式。之后，我们将这些输出特征 concate 在一起，重新表征为：\n",
    "\n",
    "\\begin{equation}\n",
    "    \\overrightarrow{h_i}' = ||_{k=1}^K \\Big(\\sum_{j \\in \\mathcal{N}_i} \\alpha_{ij}^{(k)} \\mathbf{W_r}^{(k)} \\overrightarrow{h_j}\\Big)\n",
    "\\end{equation}\n",
    "\n",
    "其中 $||$ 是拼接, $\\alpha_{ij}^{(k)}$ 是由第 $k$ 个注意力机制 $(a^k)$ 计算出的归一化注意力系数，$\\mathbf{W}^{(k)}$ 是对应输入的线性变换的权重矩阵. 注意，这里 $\\mathbf{h'} \\in \\mathbb{R}^{KF'}$.\n",
    "\n",
    "\n",
    "\n",
    "torch_geometric的GAT[可以看这里](https://pytorch-geometric.readthedocs.io/en/latest/_modules/torch_geometric/nn/conv/gat_conv.html)\n"
   ]
  },
  {
   "cell_type": "markdown",
   "metadata": {},
   "source": [
    "- GAT 的 graph attention layer 是 aggregation function 的一种变体\n",
    "\n",
    "- W 是 graph attention layer的weight marix  \n",
    "\n",
    "- a是共享的注意力机制、将两两节点对应特征进行操作后映射到标量上  \n",
    "\n",
    "- $e_{ij}$ 是注意力系数（coefficient），是对 i（中心）和 j（邻居）节点信息经过 W 后进行 a 操作的结果，衡量 j 的特征对 i 的重要性  \n",
    "\n",
    "为了在注意力机制中应用图结构，使用 masked attention 让 $e_{ij}$ 只能获取邻居之间的信息。  \n",
    "为了比较不同节点上的 coefficient，对 $e_{ij}$ 作softmax。 \n",
    "\n",
    "在本代码中，a 是一个以 LeakyReLU 作非线性化，以 $\\overrightarrow{a} \\in \\mathbb{R}^{F^{\\prime}}$ 为 weight matrix 的单层前馈神经网络。最终的计算机制就是如最长那个公式所示  \n",
    "特征通过 α 和 W 聚合。\n"
   ]
  },
  {
   "cell_type": "code",
   "execution_count": 5,
   "metadata": {
    "colab": {
     "background_save": true
    },
    "id": "w4j45gTpCeXO"
   },
   "outputs": [],
   "source": [
    "class GAT(MessagePassing):\n",
    "\n",
    "    def __init__(self, in_channels, out_channels, heads = 2,\n",
    "                 negative_slope = 0.2, dropout = 0., **kwargs):\n",
    "        super(GAT, self).__init__(node_dim=0, **kwargs)\n",
    "\n",
    "        self.in_channels = in_channels\n",
    "        self.out_channels = out_channels\n",
    "        self.heads = heads\n",
    "        self.negative_slope = negative_slope\n",
    "        self.dropout = dropout\n",
    "\n",
    "        self.lin_l = None\n",
    "        self.lin_r = None\n",
    "        self.att_l = None\n",
    "        self.att_r = None\n",
    "\n",
    "        ############################################################################\n",
    "        # TODO: Your code here! \n",
    "        # Define the layers needed for the message functions below.\n",
    "        # self.lin_l is the linear transformation that you apply to embeddings \n",
    "        # BEFORE message passing.\n",
    "        # Pay attention to dimensions of the linear layers, since we're using \n",
    "        # multi-head attention.\n",
    "        # Our implementation is ~1 lines, but don't worry if you deviate from this.\n",
    "        '''\n",
    "        TODO: 在下面定义一些 message 函数需要的层\n",
    "        self.lin_l 是是在消息传递（message passing）“之前”用于嵌入的线性变换。\n",
    "        注意线性层的维度，因为我们用的是多头注意力\n",
    "        '''\n",
    "        self.lin_l = Linear(in_channels, heads * out_channels)\n",
    "        # 即之前的 W_l，这里的in_channels就是已经乘过heads的数字\n",
    "        ############################################################################\n",
    "\n",
    "        self.lin_r = self.lin_l # Wr 看起来和 Wl 一样诶？\n",
    "\n",
    "        ############################################################################\n",
    "        # TODO: Your code here! \n",
    "        # Define the attention parameters \\overrightarrow{a_l/r}^T in the above intro.\n",
    "        # You have to deal with multi-head scenarios.\n",
    "        # Use nn.Parameter instead of nn.Linear\n",
    "        # Our implementation is ~2 lines, but don't worry if you deviate from this.\n",
    "        '''\n",
    "        TODO: 定义之前笔记公式力的 \\overrightarrow{a_l/r}^T，这个注意力参数\n",
    "        你需要处理多头注意力的情况\n",
    "        在这里不能用 nn.Linear，要用 nn.Parameter !（2行代码）\n",
    "        '''\n",
    "        # 注意参数的维度设置\n",
    "        self.att_l = Parameter(torch.Tensor(1, heads, out_channels))  #a_l\n",
    "        self.att_r = Parameter(torch.Tensor(1, heads, out_channels))  #a_r     \n",
    "        ############################################################################\n",
    "\n",
    "        self.reset_parameters()\n",
    "\n",
    "    def reset_parameters(self):\n",
    "        nn.init.xavier_uniform_(self.lin_l.weight)\n",
    "        nn.init.xavier_uniform_(self.lin_r.weight)\n",
    "        nn.init.xavier_uniform_(self.att_l)\n",
    "        nn.init.xavier_uniform_(self.att_r)\n",
    "        #https://pytorch.org/docs/stable/_modules/torch/nn/init.html#xavier_uniform_\n",
    "\n",
    "    def forward(self, x, edge_index, size = None):\n",
    "        \n",
    "        H, C = self.heads, self.out_channels\n",
    "\n",
    "        ############################################################################\n",
    "        # TODO: Your code here! \n",
    "        # Implement message passing, as well as any pre- and post-processing (our update rule).\n",
    "        # 1. First apply linear transformation to node embeddings, and split that \n",
    "        #    into multiple heads. We use the same representations for source and\n",
    "        #    target nodes, but apply different linear weights (W_l and W_r)\n",
    "        # 2. Calculate alpha vectors for central nodes (alpha_l) and neighbor nodes (alpha_r).\n",
    "        # 3. Call propagate function to conduct the message passing. \n",
    "        #    3.1 Remember to pass alpha = (alpha_l, alpha_r) as a parameter.\n",
    "        #    3.2 See there for more information: https://pytorch-geometric.readthedocs.io/en/latest/notes/create_gnn.html\n",
    "        # 4. Transform the output back to the shape of N * d.\n",
    "        # Our implementation is ~5 lines, but don't worry if you deviate from this.\n",
    "        '''\n",
    "        TODO（5行）: 实现消息传递，以及任何预处理和后处理（即我们的更新规则）。\n",
    "        1. 首先对节点嵌入应用线性变换，并将其拆分为多个头。 我们对源节点和目标节点使用相同的表示，\n",
    "        但应用不同的线性权重（W_l 和 W_r）\n",
    "        2. 计算中心节点 (alpha_l) 和邻居节点 (alpha_r) 的 alpha 向量。\n",
    "        3. 调用传播函数进行消息传递。\n",
    "            3.1 记得传递 alpha = (alpha_l, alpha_r) 作为参数。\n",
    "            3.2 更多信息参见：\n",
    "            https://pytorch-geometric.readthedocs.io/en/latest/notes/create_gnn.html\n",
    "        4. 将输出变换回 N * d 的形状。\n",
    "        '''\n",
    "        x_l = self.lin_l(x).view(-1, H, C)\n",
    "        x_r = self.lin_r(x).view(-1, H, C) # N × H × C\n",
    "        alpha_l = (x_l * self.att_l).sum(axis = 1) # * 是逐元素乘法。sum的维度是H（聚合）。\n",
    "        #alpha_l就是a^T * Wl * hi\n",
    "        alpha_r = (x_r * self.att_r).sum(axis=1)\n",
    "        out = self.propagate(edge_index, x=(x_l, x_r), alpha=(alpha_l, alpha_r),size=size).view(-1, H * C) #N*D(D=H*C)       \n",
    "        ############################################################################\n",
    "\n",
    "        return out\n",
    "\n",
    "\n",
    "    def message(self, x_j, alpha_j, alpha_i, index, ptr, size_i):\n",
    "\n",
    "        ############################################################################\n",
    "        # TODO: Your code here! \n",
    "        # Implement your message function. Putting the attention in message \n",
    "        # instead of in update is a little tricky.\n",
    "        # 1. Calculate the final attention weights using alpha_i and alpha_j,\n",
    "        #    and apply leaky Relu.\n",
    "        # 2. Calculate softmax over the neighbor nodes for all the nodes. Use \n",
    "        #    torch_geometric.utils.softmax instead of the one in Pytorch.\n",
    "        # 3. Apply dropout to attention weights (alpha).\n",
    "        # 4. Multiply embeddings and attention weights. As a sanity check, the output\n",
    "        #    should be of shape E * H * d.\n",
    "        # 5. ptr (LongTensor, optional): If given, computes the softmax based on\n",
    "        #    sorted inputs in CSR representation. You can simply pass it to softmax.\n",
    "        # Our implementation is ~5 lines, but don't worry if you deviate from this.\n",
    "        '''\n",
    "        TODO（~5行）: 实现函数，将 attention 放到 message 而不是 update 力稍微有点难\n",
    "        1. 使用 alpha_i 和 alhpa_j 计算最终的注意力权重，并加 leakyReLU\n",
    "        2. 对所有节点的邻居节点们进行 softmax, 作为一个完整性检验，输出形状应该是 E * H * d\n",
    "        3. 对注意力权重 (alpha) 进行 dropout\n",
    "        4. 将嵌入和注意力权重相乘。作为完整性检验，输出的形状应该还是 E * H * d\n",
    "        5. ptr (LongTensor，可选)：如果有的话，基于用 CSR representation 筛选出的输入计算 softmax\n",
    "        你可以很简单的把他传入 softmax\n",
    "        '''\n",
    "        alpha = alpha_i + alpha_j\n",
    "        alpha = F.leaky_relu(alpha, self.negative_slope)\n",
    "        alpha = softmax(alpha, index, ptr, size_i)\n",
    "        #https://pytorch-geometric.readthedocs.io/en/latest/modules/utils.html#torch-geometric-utils\n",
    "        #https://github.com/rusty1s/pytorch_geometric/blob/master/torch_geometric/utils/softmax.py\n",
    "        #没仔细看，反正参数是这些参数\n",
    "        \n",
    "        alpha = F.dropout(alpha, p = self.dropout, training = self.training).unsqueeze(1)\n",
    "        # .unsqueeze(1) 将 alpha 从 E * d 转化为 E * 1 * d\n",
    "        out = x_j * alpha # E * H * d\n",
    "        ############################################################################\n",
    "\n",
    "        return out\n",
    "\n",
    "\n",
    "    def aggregate(self, inputs, index, dim_size = None):\n",
    "\n",
    "        ############################################################################\n",
    "        # TODO: Your code here! \n",
    "        # Implement your aggregate function here.\n",
    "        # See here as how to use torch_scatter.scatter: https://pytorch-scatter.readthedocs.io/en/latest/_modules/torch_scatter/scatter.html\n",
    "        # Pay attention to \"reduce\" parameter is different from that in GraphSage.\n",
    "        # Our implementation is ~1 lines, but don't worry if you deviate from this.\n",
    "        '''\n",
    "        TODO(~1行)：实现你的 aggregate 函数\n",
    "        torch_scatter.scatter使用指南：https://pytorch-scatter.readthedocs.io/en/latest/_modules/torch_scatter/scatter.html\n",
    "        注意，'reduce' 参数和 GraphSage 使用的不同\n",
    "        '''\n",
    "        out = torch_scatter.scatter(inputs, index, dim = self.node_dim, \n",
    "                                    dim_size = dim_size, reduce = 'sum')\n",
    "\n",
    "        ############################################################################\n",
    "    \n",
    "        return out"
   ]
  },
  {
   "cell_type": "markdown",
   "metadata": {
    "id": "V2dkgSuWCheU"
   },
   "source": [
    "## Building Optimizers\n",
    "\n",
    "This function has been implemented for you. **For grading purposes please use the default Adam optimizer**, but feel free to play with other types of optimizers on your own."
   ]
  },
  {
   "cell_type": "markdown",
   "metadata": {},
   "source": [
    "### EX： 等等，lin_r 和 lin_l 真的是一个吗？"
   ]
  },
  {
   "cell_type": "code",
   "execution_count": 6,
   "metadata": {},
   "outputs": [
    {
     "name": "stdout",
     "output_type": "stream",
     "text": [
      "Batch(batch=[2708], edge_index=[2, 10556], ptr=[2], test_mask=[2708], train_mask=[2708], val_mask=[2708], x=[2708, 1433], y=[2708])\n"
     ]
    }
   ],
   "source": [
    "#PRW\n",
    "#lin_l和lin_r是同一个吗？\n",
    "from torch_geometric.datasets import Planetoid\n",
    "from torch_geometric.data import DataLoader\n",
    "dataset = Planetoid(root='./datasets/cora', name='Cora')\n",
    "eg_model=GAT(dataset.num_node_features,2)\n",
    "loader = DataLoader(dataset, batch_size=32, shuffle=True)\n",
    "for batch in loader:\n",
    "    print(batch)\n",
    "    op=eg_model(batch.x,batch.edge_index)\n",
    "    break"
   ]
  },
  {
   "cell_type": "markdown",
   "metadata": {},
   "source": [
    "### Ex2： logsoftmax, 以及 view, unsqueeze 的扩展维度作用"
   ]
  },
  {
   "cell_type": "code",
   "execution_count": 7,
   "metadata": {},
   "outputs": [
    {
     "name": "stdout",
     "output_type": "stream",
     "text": [
      "原张量： tensor([[[ 0.0083,  1.2473, -0.8344],\n",
      "         [-0.1402, -0.4469, -1.0562]]])\n",
      "logSoftmax之后： tensor([[[-0.6217, -0.1687, -0.5884],\n",
      "         [-0.7701, -1.8629, -0.8102]]])\n",
      "如果沿着最后一个维度求和的话: tensor([[ 0.4211, -1.6433]])\n",
      "torch.Size([1, 2])\n",
      "使用 view 扩展维度： torch.Size([2, 1, 1])\n",
      "使用 unsqueeze 扩展维度： torch.Size([1, 1, 2])\n"
     ]
    }
   ],
   "source": [
    "eg_ls=nn.LogSoftmax(dim=1)  #dim值是必须要的\n",
    "eg_tensor=torch.randn(1,2,3)\n",
    "eg_result=eg_ls(eg_tensor)\n",
    "print(\"原张量：\", eg_tensor)\n",
    "print(\"logSoftmax之后：\",eg_result)\n",
    "\n",
    "eg_result2=eg_tensor.sum(dim=-1)\n",
    "print(\"如果沿着最后一个维度求和的话:\", eg_result2)\n",
    "print(eg_result2.size())\n",
    "\n",
    "print(\"使用 view 扩展维度：\", eg_result2.view(-1,1,1).size())\n",
    "\n",
    "print(\"使用 unsqueeze 扩展维度：\", eg_result2.unsqueeze(1).size())"
   ]
  },
  {
   "cell_type": "markdown",
   "metadata": {
    "id": "V2dkgSuWCheU"
   },
   "source": [
    "## 搭建 Optimizers\n",
    "\n",
    "这个函数已经给你写好了。反正你也不用算分，这么多种随便 optimzier 都可以随便用\n"
   ]
  },
  {
   "cell_type": "code",
   "execution_count": 8,
   "metadata": {
    "id": "f_TIQ8NPCjBP"
   },
   "outputs": [],
   "source": [
    "import torch.optim as optim\n",
    "\n",
    "def build_optimizer(args, params):\n",
    "    weight_decay = args.weight_decay\n",
    "    filter_fn = filter(lambda p : p.requires_grad, params)\n",
    "    if args.opt == 'adam':\n",
    "        optimizer = optim.Adam(filter_fn, lr=args.lr, weight_decay=weight_decay)\n",
    "    elif args.opt == 'sgd':\n",
    "        optimizer = optim.SGD(filter_fn, lr=args.lr, momentum=0.95, weight_decay=weight_decay)\n",
    "    elif args.opt == 'rmsprop':\n",
    "        optimizer = optim.RMSprop(filter_fn, lr=args.lr, weight_decay=weight_decay)\n",
    "    elif args.opt == 'adagrad':\n",
    "        optimizer = optim.Adagrad(filter_fn, lr=args.lr, weight_decay=weight_decay)\n",
    "    if args.opt_scheduler == 'none':\n",
    "        return None, optimizer\n",
    "    elif args.opt_scheduler == 'step':\n",
    "        scheduler = optim.lr_scheduler.StepLR(optimizer, step_size=args.opt_decay_step, gamma=args.opt_decay_rate)\n",
    "    elif args.opt_scheduler == 'cos':\n",
    "        scheduler = optim.lr_scheduler.CosineAnnealingLR(optimizer, T_max=args.opt_restart)\n",
    "    return scheduler, optimizer"
   ]
  },
  {
   "cell_type": "markdown",
   "metadata": {
    "id": "hBYdWFwYCkwY"
   },
   "source": [
    "## Training and Testing\n",
    "\n",
    "Here we provide you with the functions to train and test. **Please do not modify this part for grading purposes.**"
   ]
  },
  {
   "cell_type": "markdown",
   "metadata": {
    "id": "hBYdWFwYCkwY"
   },
   "source": [
    "## 训练与测试\n",
    "\n",
    "训练测试代码都写好了，没必要不需要改。\n",
    "\n",
    "但我其实还是改了：\n",
    "- 首先因为跑的太慢了，我都怀疑是出Bug，所以我加了个 tqdm (又因为我的环境没 NodeJs我懒得装了，我直接用的原版tqdm)\n",
    "- 然后我发现这数据集还挺大的，就试着搬到了GPU上……\n"
   ]
  },
  {
   "cell_type": "code",
   "execution_count": 9,
   "metadata": {
    "id": "_tZMWRc8CmGg"
   },
   "outputs": [],
   "source": [
    "# 加个tqdm 不知道怎么跑的这么慢\n",
    "\n",
    "from tqdm.notebook import tqdm\n",
    "\n",
    "import time\n",
    "\n",
    "import networkx as nx\n",
    "import numpy as np\n",
    "import torch\n",
    "import torch.optim as optim\n",
    "\n",
    "from torch_geometric.datasets import TUDataset\n",
    "from torch_geometric.datasets import Planetoid\n",
    "from torch_geometric.data import DataLoader\n",
    "\n",
    "import torch_geometric.nn as pyg_nn\n",
    "\n",
    "import matplotlib.pyplot as plt\n",
    "\n",
    "\n",
    "def train(dataset, args):\n",
    "    ####### Add GPU device #################\n",
    "    device = 'cuda' if torch.cuda.is_available() else 'cpu'\n",
    "    print('Device: {}'.format(device))\n",
    "    #####################################\n",
    "    \n",
    "    print(\"Node task. test set size:\", np.sum(dataset[0]['train_mask'].numpy()))\n",
    "    test_loader = loader = DataLoader(dataset, batch_size=args.batch_size, shuffle=True)\n",
    "\n",
    "    # build model\n",
    "    model = GNNStack(dataset.num_node_features, args.hidden_dim, dataset.num_classes, \n",
    "                            args)\n",
    "    \n",
    "    scheduler, opt = build_optimizer(args, model.parameters())\n",
    "    \n",
    "    model.to(device) # Add GPU device\n",
    "    \n",
    "    # train\n",
    "    losses = []\n",
    "    test_accs = []\n",
    "    for epoch in tqdm(range(args.epochs)):\n",
    "        total_loss = 0\n",
    "        model.train()\n",
    "        for batch in loader:\n",
    "            batch.to(device) # Add GPU device\n",
    "            opt.zero_grad()\n",
    "            pred = model(batch)\n",
    "            label = batch.y\n",
    "            pred = pred[batch.train_mask]\n",
    "            label = label[batch.train_mask]\n",
    "            loss = model.loss(pred, label)\n",
    "            loss.backward()\n",
    "            opt.step()\n",
    "            total_loss += loss.item() * batch.num_graphs\n",
    "        total_loss /= len(loader.dataset)\n",
    "        losses.append(total_loss)\n",
    "\n",
    "        if epoch % 10 == 0:\n",
    "            test_acc = test(test_loader, model, device) # Add GPU device\n",
    "            test_accs.append(test_acc)\n",
    "        else:\n",
    "            test_accs.append(test_accs[-1])\n",
    "    return test_accs, losses\n",
    "\n",
    "def test(loader, model, device, is_validation=True): # Add GPU device\n",
    "    model.eval()\n",
    "\n",
    "    correct = 0\n",
    "    for data in loader:\n",
    "        data.to(device)\n",
    "        with torch.no_grad():\n",
    "            # max(dim=1) returns values, indices tuple; only need indices\n",
    "            pred = model(data).max(dim=1)[1]\n",
    "            label = data.y\n",
    "\n",
    "        mask = data.val_mask if is_validation else data.test_mask\n",
    "        # node classification: only evaluate on nodes in test set\n",
    "        pred = pred[mask]\n",
    "        label = data.y[mask]\n",
    "            \n",
    "        correct += pred.eq(label).sum().item()\n",
    "\n",
    "    total = 0\n",
    "    for data in loader.dataset:\n",
    "        total += torch.sum(data.val_mask if is_validation else data.test_mask).item()\n",
    "    return correct / total\n",
    "  \n",
    "class objectview(object):\n",
    "    def __init__(self, d):\n",
    "        self.__dict__ = d\n"
   ]
  },
  {
   "cell_type": "markdown",
   "metadata": {
    "id": "L7-h7jIsCns4"
   },
   "source": [
    "## Let's Start the Training!\n",
    "\n",
    "We will be working on the CORA dataset on node-level classification.\n",
    "\n",
    "This part is implemented for you. **For grading purposes, please do not modify the default parameters.** However, feel free to play with different configurations just for fun!\n",
    "\n",
    "**Submit your best accuracy and loss on Gradescope.**"
   ]
  },
  {
   "cell_type": "markdown",
   "metadata": {
    "id": "L7-h7jIsCns4"
   },
   "source": [
    "## 训练开始！\n",
    "\n",
    "我们将在 CORA 数据集上进行一次节点分类。\n",
    "\n",
    "这个部分也给你写好了。\n"
   ]
  },
  {
   "cell_type": "code",
   "execution_count": 10,
   "metadata": {
    "id": "qe9B45l9Cpz2"
   },
   "outputs": [
    {
     "name": "stdout",
     "output_type": "stream",
     "text": [
      "Device: cuda\n",
      "Node task. test set size: 140\n"
     ]
    },
    {
     "data": {
      "application/vnd.jupyter.widget-view+json": {
       "model_id": "ff4aebb672ec49b19db856d5e5805f1b",
       "version_major": 2,
       "version_minor": 0
      },
      "text/plain": [
       "HBox(children=(HTML(value=''), FloatProgress(value=0.0, max=500.0), HTML(value='')))"
      ]
     },
     "metadata": {},
     "output_type": "display_data"
    },
    {
     "name": "stdout",
     "output_type": "stream",
     "text": [
      "\n",
      "Maximum accuracy: 0.74\n",
      "Minimum loss: 0.10290759056806564\n",
      "Device: cuda\n",
      "Node task. test set size: 140\n"
     ]
    },
    {
     "data": {
      "application/vnd.jupyter.widget-view+json": {
       "model_id": "deb63a005beb4172b9f0029f8ab529d4",
       "version_major": 2,
       "version_minor": 0
      },
      "text/plain": [
       "HBox(children=(HTML(value=''), FloatProgress(value=0.0, max=500.0), HTML(value='')))"
      ]
     },
     "metadata": {},
     "output_type": "display_data"
    },
    {
     "name": "stdout",
     "output_type": "stream",
     "text": [
      "\n",
      "Maximum accuracy: 0.76\n",
      "Minimum loss: 0.02533005177974701\n"
     ]
    },
    {
     "data": {
      "image/png": "[encoded data removed]",
      "text/plain": [
       "<Figure size 432x288 with 1 Axes>"
      ]
     },
     "metadata": {
      "needs_background": "light"
     },
     "output_type": "display_data"
    }
   ],
   "source": [
    "def main():\n",
    "    for args in [\n",
    "        {'model_type': 'GraphSage', 'dataset': 'cora', 'num_layers': 2, 'heads': 1, 'batch_size': 32, 'hidden_dim': 32, 'dropout': 0.5, 'epochs': 500, 'opt': 'adam', 'opt_scheduler': 'none', 'opt_restart': 0, 'weight_decay': 5e-3, 'lr': 0.01},\n",
    "    ]:\n",
    "        args = objectview(args)\n",
    "        for model in ['GraphSage', 'GAT']:\n",
    "            args.model_type = model\n",
    "            # Match the dimension.\n",
    "            if model == 'GAT':\n",
    "                args.heads = 2\n",
    "            else:\n",
    "                args.heads = 1\n",
    "\n",
    "            if args.dataset == 'cora':\n",
    "                dataset = Planetoid(root='./datasets/cora', name='Cora')\n",
    "            else:\n",
    "                raise NotImplementedError(\"Unknown dataset\") \n",
    "            test_accs, losses = train(dataset, args) \n",
    "\n",
    "            print(\"Maximum accuracy: {0}\".format(max(test_accs)))\n",
    "            print(\"Minimum loss: {0}\".format(min(losses)))\n",
    "\n",
    "            plt.title(dataset.name)\n",
    "            plt.plot(losses, label=\"training loss\" + \" - \" + args.model_type)\n",
    "            plt.plot(test_accs, label=\"test accuracy\" + \" - \" + args.model_type)\n",
    "        plt.legend()\n",
    "        plt.show()\n",
    "\n",
    "if __name__ == '__main__':\n",
    "    main()"
   ]
  },
  {
   "cell_type": "markdown",
   "metadata": {
    "id": "gHELqjARZ1W5"
   },
   "source": [
    "## Question 1.1: What is the maximum accuracy you could get on test set for GraphSage? (10 points)\n",
    "\n",
    "Submit your answers on Gradescope."
   ]
  },
  {
   "cell_type": "markdown",
   "metadata": {
    "id": "PlCtBEBLMBkR"
   },
   "source": [
    "## Question 1.2: What is the maximum accuracy you could get on test set for GAT? (10 points)\n",
    "\n",
    "Submit your answers on Gradescope."
   ]
  },
  {
   "cell_type": "markdown",
   "metadata": {
    "id": "Nwwq0nSdmsOL"
   },
   "source": [
    "# 2 DeepSNAP Basics\n",
    "\n",
    "In previous Colabs we used both of graph class (NetworkX) and tensor (PyG) representations of graphs separately. The graph class `nx.Graph` provides rich analysis and manipulation functionalities, such as the clustering coefficient and PageRank. To feed the graph into the model, we need to transform the graph into tensor representations including edge tensor `edge_index` and node attributes tensors `x` and `y`. But only using tensors (as the graphs formatted in PyG `datasets` and `data`) will make many graph manipulations and analysis less efficient and harder. So, in this Colab we will use DeepSNAP which combines both representations and offers a full pipeline for GNN training / validation / testing.\n",
    "\n",
    "\n",
    "In general, [DeepSNAP](https://github.com/snap-stanford/deepsnap) is a Python library to assist efficient deep learning on graphs. DeepSNAP features in its support for flexible graph manipulation, standard pipeline, heterogeneous graphs and simple API.\n",
    "\n",
    "1. DeepSNAP is easy to be used for the sophisticated graph manipulations, such as feature computation, pretraining, subgraph extraction etc. during/before the training.\n",
    "2. In most frameworks, standard pipelines for node, edge, link, graph-level tasks under inductive or transductive settings are left to the user to code. In practice, there are additional design choices involved (such as how to split dataset for link prediction). DeepSNAP provides such a standard pipeline that greatly saves repetitive coding efforts, and enables fair comparision for models.\n",
    "3. Many real-world graphs are heterogeneous graphs. But packages support for heterogeneous graphs, including data storage and flexible message passing, is lacking. DeepSNAP provides an efficient and flexible heterogeneous graph that supports both the node and edge heterogeneity.\n",
    "\n",
    "[DeepSNAP](https://github.com/snap-stanford/deepsnap) is a newly released project and it is still under development. If you find any bugs or have any improvement ideas, feel free to raise issues or create pull requests on the GitHub directly :)\n",
    "\n",
    "In this Colab, we will focus on DeepSNAP graph manipulations and splitting settings.\n"
   ]
  },
  {
   "cell_type": "markdown",
   "metadata": {
    "id": "Sf7vUmdNKCjA"
   },
   "source": [
    "# 2 DeepSNAP 基础知识\n",
    "\n",
    "在之前的 Colab 中，对于一张图，我们分别使用了图类 (NetworkX) 和张量 (PyG) 表示。\n",
    "\n",
    "图类 `nx.Graph` 提供了丰富的分析和操作功能，例如聚类系数和 PageRank。要将图输入模型，我们需要将图转换为张量表示，包括边张量 `edge_index` 和节点属性张量 `x` 和 `y`。但仅使用张量（如在 PyG `datasets` 和 `data` 中格式化的图形）会使许多图形操作和分析的效率降低和困难。因此，在这个 Colab 中，我们将使用 DeepSNAP，它结合了两种表示并为 GNN 训练/验证/测试提供完整的管线。\n",
    "\n",
    "\n",
    "总的来说，[DeepSNAP](https://github.com/snap-stanford/deepsnap) 是一个 Python 库，用于辅助高效的图深度学习。 DeepSNAP 支持灵活的图操作、标准管线、异构图和简单 API。\n",
    "\n",
    "1. DeepSNAP 易于在训练期间/之前用于复杂的图操作，例如特征计算、预训练、子图提取等。\n",
    "2. 在大多数框架中，归纳或转导 (inductive or transductive) 设置下的节点、边、链接、图级任务的标准管线留给用户编码。在实践中，还涉及其他设计选择（例如如何拆分数据集以进行链接预测）。 DeepSNAP 提供了这样一个标准管线，大大节省了重复编码工作，并实现了模型的公平比较。\n",
    "3. 许多现实世界的图是异构图。但是缺乏对异构图的包支持，包括数据存储和灵活的消息传递。 DeepSNAP 提供了一个高效灵活的异构图，支持节点和边异构。\n",
    "\n",
    "[DeepSNAP](https://github.com/snap-stanford/deepsnap) 是一个新发布的项目，还在开发中。如果您发现任何错误或有任何改进想法，请随时在 GitHub 上提出问题或创建拉取请求:)\n",
    "\n",
    "在此 Colab 中，我们将重点介绍 DeepSNAP 图操作和拆分设置"
   ]
  },
  {
   "cell_type": "markdown",
   "metadata": {
    "id": "20SvvngpQmmQ"
   },
   "source": [
    "## Setup"
   ]
  },
  {
   "cell_type": "code",
   "execution_count": 11,
   "metadata": {
    "id": "zfbBVFmAQlwz"
   },
   "outputs": [],
   "source": [
    "import torch\n",
    "import networkx as nx\n",
    "import matplotlib.pyplot as plt\n",
    "\n",
    "from deepsnap.graph import Graph\n",
    "from deepsnap.batch import Batch\n",
    "from deepsnap.dataset import GraphDataset\n",
    "from torch_geometric.datasets import Planetoid, TUDataset\n",
    "\n",
    "from torch.utils.data import DataLoader\n",
    "\n",
    "def visualize(G, color_map=None, seed=123):\n",
    "    if color_map is None:\n",
    "        color_map = '#c92506'\n",
    "    plt.figure(figsize=(8, 8))\n",
    "    nodes = nx.draw_networkx_nodes(G, pos=nx.spring_layout(G, seed=seed), \\\n",
    "                                 label=None, node_color=color_map, node_shape='o', node_size=150)\n",
    "    edges = nx.draw_networkx_edges(G, pos=nx.spring_layout(G, seed=seed), alpha=0.5)\n",
    "    if color_map is not None:\n",
    "        plt.scatter([],[], c='#c92506', label='Nodes with label 0', edgecolors=\"black\", s=140)\n",
    "        plt.scatter([],[], c='#fcec00', label='Nodes with label 1', edgecolors=\"black\", s=140)\n",
    "        plt.legend(prop={'size': 13}, handletextpad=0)\n",
    "    nodes.set_edgecolor('black')\n",
    "    plt.show()"
   ]
  },
  {
   "cell_type": "markdown",
   "metadata": {
    "id": "ic-o1P3r6hr2"
   },
   "source": [
    "## DeepSNAP Graph\n",
    "\n",
    "The `deepsnap.graph.Graph` class is the core class of DeepSNAP. It not only represents a graph in tensor format but also references to a graph object from graph manipulation package.\n",
    "\n",
    "Currently DeepSNAP supports [NetworkX](https://networkx.org/) and [Snap.py](https://snap.stanford.edu/snappy/doc/index.html) as the back end graph manipulation package.\n",
    "\n",
    "In this Colab, we will use the NetworkX as the back end graph manipulation package.\n",
    "\n",
    "=========================================\n",
    "\n",
    "Lets first try to convert a simple random NetworkX graph to a DeepSNAP graph."
   ]
  },
  {
   "cell_type": "markdown",
   "metadata": {
    "id": "Ispq_lIoJl_z"
   },
   "source": [
    "## DeepSNAP 图\n",
    "\n",
    "`deepsnap.graph.Graph` 类是 DeepSNAP 的核心类。 它不仅表示张量格式的图形，而且还引用了图形操作包中的图形对象。\n",
    "\n",
    "目前 DeepSNAP 支持 [NetworkX](https://networkx.org/) 和 [Snap.py](https://snap.stanford.edu/snappy/doc/index.html) 作为后端图形操作包。\n",
    "\n",
    "在这个 Colab 中，我们将使用 NetworkX 作为后端图形操作包。\n",
    "\n",
    "==============================================\n",
    "\n",
    "让我们先试着将一个简单的随机 NetworkX 图转化为一个 DeepSNAP 图"
   ]
  },
  {
   "cell_type": "code",
   "execution_count": 14,
   "metadata": {
    "id": "zT5qca3x6XpG"
   },
   "outputs": [
    {
     "name": "stdout",
     "output_type": "stream",
     "text": [
      "(0, {'node_feature': tensor([0.6331, 0.6277, 0.5299, 0.4503, 0.4147]), 'node_label': tensor(0)})\n"
     ]
    },
    {
     "data": {
      "image/png": "[encoded data removed]",
      "text/plain": [
       "<Figure size 576x576 with 1 Axes>"
      ]
     },
     "metadata": {},
     "output_type": "display_data"
    },
    {
     "name": "stdout",
     "output_type": "stream",
     "text": [
      "Graph(G=[], edge_index=[2, 524], edge_label_index=[2, 524], node_feature=[100, 5], node_label=[100], node_label_index=[100])\n",
      "Node feature (node_feature) has shape torch.Size([100, 5]) and type torch.float32\n",
      "Node label (node_label) has shape torch.Size([100]) and type torch.int64\n",
      "Edge index (edge_index) has shape torch.Size([2, 524]) and type torch.int64\n",
      "The DeepSNAP graph has <class 'networkx.classes.graph.Graph'> as the internal manupulation graph\n"
     ]
    }
   ],
   "source": [
    "num_nodes = 100\n",
    "p = 0.05\n",
    "seed = 100\n",
    "\n",
    "# Generate a networkx random graph\n",
    "# 生成 networkx 随机图\n",
    "G = nx.gnp_random_graph(num_nodes, p, seed=seed)\n",
    "\n",
    "# Generate some random node features and labels\n",
    "# 生成随机的节点特征和标签\n",
    "node_feature = {node : torch.rand([5, ]) for node in G.nodes()}\n",
    "node_label = {node : torch.randint(0, 2, ()) for node in G.nodes()}\n",
    "\n",
    "# Set the random features and labels to G\n",
    "# 给 G 设置随机的标签和特征\n",
    "nx.set_node_attributes(G, node_feature, name='node_feature')\n",
    "nx.set_node_attributes(G, node_label, name='node_label')\n",
    "\n",
    "# Print one node example\n",
    "# 打印一个节点例子\n",
    "for node in G.nodes(data=True):\n",
    "    print(node)\n",
    "    break\n",
    "\n",
    "color_map = ['#c92506' if node[1]['node_label'].item() == 0 else '#fcec00' for node in G.nodes(data=True)]\n",
    "\n",
    "# Visualize the graph\n",
    "# 图可视化\n",
    "visualize(G, color_map=color_map)\n",
    "\n",
    "# Transform the networkx graph into the deepsnap graph\n",
    "# 把 networkx 图转化为 deepsnap 图\n",
    "graph = Graph(G)\n",
    "\n",
    "# Print out the general deepsnap graph information\n",
    "# 打印大体的 deepsnap 图信息\n",
    "print(graph)\n",
    "\n",
    "# DeepSNAP will convert node attributes to tensors\n",
    "# Notice the type of tensors\n",
    "# DeepSNAP 将节点属性转换成 Tensor\n",
    "# 注意 Tensor 的类型\n",
    "print(\"Node feature (node_feature) has shape {} and type {}\".format(graph.node_feature.shape, graph.node_feature.dtype))\n",
    "print(\"Node label (node_label) has shape {} and type {}\".format(graph.node_label.shape, graph.node_label.dtype))\n",
    "\n",
    "# DeepSNAP will also generate the edge_index tensor\n",
    "# DeepSNAP 也会生成 edge_index Tensor\n",
    "print(\"Edge index (edge_index) has shape {} and type {}\".format(graph.edge_index.shape, graph.edge_index.dtype))\n",
    "\n",
    "# Different from only storing tensors, deepsnap graph also references to the networkx graph\n",
    "# We will discuss why the reference will be helpful later\n",
    "# 与只保存 Tensor 不同，deepsnap 图也参考了 networkx 图\n",
    "# 我们将在后面讨论这种参考有用在哪\n",
    "print(\"The DeepSNAP graph has {} as the internal manupulation graph\".format(type(graph.G)))"
   ]
  },
  {
   "cell_type": "markdown",
   "metadata": {
    "id": "PNMbc307KOQD"
   },
   "source": [
    "In DeepSNAP we have three levels of attributes. In this example, we have the **node level** attributes including `node_feature` and `node_label`. The other two levels of attributes are graph and edge attributes. The usage is similar to the node level one except that the feature becomes `edge_feature` or `graph_feature` and label becomes `edge_label` or `graph_label` etc.\n",
    "\n",
    "==============================================\n",
    "\n",
    "Similar to the NetworkX graph, we can easily get some basic information of the graph through class properties directly."
   ]
  },
  {
   "cell_type": "markdown",
   "metadata": {
    "id": "G8Xz58_Da0qL"
   },
   "source": [
    "在 DeepSNAP 中，我们有三个级别的属性。 在这个例子中，我们有 **节点级** 属性，包括 `node_feature` 和 `node_label`。 \n",
    "\n",
    "另外两个级别的属性是图和边属性。 用法与节点一级相似，只是特征变为 `edge_feature` 或 `graph_feature` ，标签变为 `edge_label` 或者 `graph_label` 等。\n",
    "\n",
    "======================================\n",
    "\n",
    "与 NetworkX 图类似，我们可以直接通过类属性轻松获取图的一些基本信息。"
   ]
  },
  {
   "cell_type": "code",
   "execution_count": 15,
   "metadata": {
    "id": "dLo4zWAoeg6S"
   },
   "outputs": [
    {
     "name": "stdout",
     "output_type": "stream",
     "text": [
      "The random graph has 100 nodes\n",
      "The random graph has 262 edges\n"
     ]
    }
   ],
   "source": [
    "# Number of nodes\n",
    "print(\"The random graph has {} nodes\".format(graph.num_nodes))\n",
    "\n",
    "# Number of edges\n",
    "print(\"The random graph has {} edges\".format(graph.num_edges))"
   ]
  },
  {
   "cell_type": "markdown",
   "metadata": {
    "id": "Po7IaRmwblI5"
   },
   "source": [
    "DeepSNAP also provides functions that can automatically transform the PyG datasets into a list of DeepSNAP graphs.\n",
    "\n",
    "Here we transform the CORA dataset into a list of DeepSNAP graphs."
   ]
  },
  {
   "cell_type": "markdown",
   "metadata": {
    "id": "Po7IaRmwblI5"
   },
   "source": [
    "DeepSNAP 也提供了能自动将 PyG datasets 转为一个 DeepSNAP 图列表的函数。 \n",
    "\n",
    "这里我们将 CORA 数据集转化为一个 DeepSNAP 图的列表\n",
    "\n",
    "Here we transform the CORA dataset into a list of DeepSNAP graphs."
   ]
  },
  {
   "cell_type": "code",
   "execution_count": 16,
   "metadata": {
    "id": "ZFkg2kCgcFwR"
   },
   "outputs": [
    {
     "name": "stdout",
     "output_type": "stream",
     "text": [
      "Graph(G=[], edge_index=[2, 10556], edge_label_index=[2, 10556], node_feature=[2708, 1433], node_label=[2708], node_label_index=[2708])\n"
     ]
    }
   ],
   "source": [
    "root = './datasets/cora'\n",
    "name = 'Cora'\n",
    "\n",
    "# The Cora dataset\n",
    "pyg_dataset= Planetoid(root, name)\n",
    "\n",
    "# PyG dataset to a list of deepsnap graphs\n",
    "graphs = GraphDataset.pyg_to_graphs(pyg_dataset)\n",
    "\n",
    "# Get the first deepsnap graph (CORA only has one graph)\n",
    "graph = graphs[0]\n",
    "print(graph)"
   ]
  },
  {
   "cell_type": "markdown",
   "metadata": {
    "id": "NLm5vVYMAP2x"
   },
   "source": [
    "## Question 2.1: What is the number of classes and number of features in the CORA graph? (5 points)\n",
    "\n",
    "Submit your answers on Gradescope."
   ]
  },
  {
   "cell_type": "markdown",
   "metadata": {},
   "source": [
    "## 问题 2.1: CORA 图有多少类，多少种特征？"
   ]
  },
  {
   "cell_type": "code",
   "execution_count": 17,
   "metadata": {
    "id": "8iF_Kyqr_JbY"
   },
   "outputs": [
    {
     "name": "stdout",
     "output_type": "stream",
     "text": [
      "Cora has 7 classes\n",
      "Cora has 1433 features\n"
     ]
    }
   ],
   "source": [
    "def get_num_node_classes(graph):\n",
    "    # TODO: Implement this function that takes a deepsnap graph object\n",
    "    # and return the number of node classes of that graph.\n",
    "    '''\n",
    "    TODO: 实现函数，将 deepsnap  图对象作为输入，返回图的节点类别数\n",
    "    '''\n",
    "    num_node_classes = 0\n",
    "\n",
    "    ############# Your code here #############\n",
    "    ## (~1 line of code)\n",
    "    ## Note\n",
    "    ## 1. Colab autocomplete functionality might be useful\n",
    "    ## 2. DeepSNAP documentation might be useful https://snap.stanford.edu/deepsnap/modules/graph.html\n",
    "    '''\n",
    "    至多一行代码，请参考官方文档 https://snap.stanford.edu/deepsnap/modules/graph.html\n",
    "    '''\n",
    "    num_node_classes=graph.num_node_labels  \n",
    "    #  https://snap.stanford.edu/deepsnap/modules/graph.html#deepsnap.graph.Graph.num_node_labels\n",
    "    ##########################################\n",
    "\n",
    "    return num_node_classes\n",
    "\n",
    "def get_num_node_features(graph):\n",
    "    # TODO: Implement this function that takes a deepsnap graph object\n",
    "    # and return the number of node features of that graph.\n",
    "    '''\n",
    "    TODO: 实现函数，将 deepsnap 图对象作为输入，返回图的节点特征数\n",
    "    '''\n",
    "    \n",
    "    num_node_features = 0\n",
    "  \n",
    "    ############# Your code here #############\n",
    "    ## (~1 line of code)\n",
    "    ## Note\n",
    "    ## 1. Colab autocomplete functionality might be useful\n",
    "    ## 2. DeepSNAP documentation might be useful https://snap.stanford.edu/deepsnap/modules/graph.html\n",
    "    '''\n",
    "    至多一行代码，请参考官方文档 https://snap.stanford.edu/deepsnap/modules/graph.html\n",
    "    '''\n",
    "    num_node_features=graph.num_node_features  \n",
    "    #https://snap.stanford.edu/deepsnap/modules/graph.html#deepsnap.graph.Graph.num_node_features\n",
    "    ##########################################\n",
    "\n",
    "    return num_node_features\n",
    "\n",
    "num_node_classes = get_num_node_classes(graph)\n",
    "num_node_features = get_num_node_features(graph)\n",
    "print(\"{} has {} classes\".format(name, num_node_classes))\n",
    "print(\"{} has {} features\".format(name, num_node_features))"
   ]
  },
  {
   "cell_type": "markdown",
   "metadata": {
    "id": "rwKbzhHUAckZ"
   },
   "source": [
    "## DeepSNAP Dataset\n",
    "\n",
    "Now, lets talk about DeepSNAP dataset. A `deepsnap.dataset.GraphDataset` contains a list of `deepsnap.graph.Graph` objects. In addition to list of graphs, you can also specify what task the dataset will be used on, such as node level task (`task=node`), edge level task (`task=link_pred`) and graph level task (`task=graph`).\n",
    "\n",
    "It also contains many other useful parameters during initialization and other functinoalities. If you are interested, you can take a look at the [documentation](https://snap.stanford.edu/deepsnap/modules/dataset.html#deepsnap-graphdataset).\n",
    "\n",
    "\n",
    "-=-=-=-=-=-=-=-=-=--=--=-=-=-\n",
    "\n",
    "Lets now use COX2 dataset which contains a list of graphs and specify the task to `graph` when we initialize the DeepSNAP dataset."
   ]
  },
  {
   "cell_type": "markdown",
   "metadata": {
    "id": "HSidf9E0hn2s"
   },
   "source": [
    "## DeepSNAP Dataset\n",
    "\n",
    "现在咱们谈谈 DeepSNAP dataset. \n",
    "\n",
    " `deepsnap.dataset.GraphDataset` 包含一个 `deepsnap.graph.Graph` 对象组成的列表. 除了图的列表，你还可以看到这个数据集是用来处理哪种类型任务的，比如 节点级任务(`task=node`), 边级任务 (`task=link_pred`) 和图级任务(`task=graph`).\n",
    "\n",
    "他也包括其他在初始化或者其他场景中有用的参数，感兴趣的还可以看看官方的 [documentation](https://snap.stanford.edu/deepsnap/modules/dataset.html#deepsnap-graphdataset).\n",
    "\n",
    "\n",
    "-=-=-==-=-=-=-=-=-=-=-=-=-=-=-=-=-=-=-==-=\n",
    "\n",
    "我们现在使用 COX2 数据集，其包括一个由图组成的列表，我们将在初始化时任务规定为 `graph`。"
   ]
  },
  {
   "cell_type": "code",
   "execution_count": 18,
   "metadata": {
    "id": "l4kqUldyoaS_"
   },
   "outputs": [
    {
     "name": "stdout",
     "output_type": "stream",
     "text": [
      "GraphDataset(467)\n"
     ]
    }
   ],
   "source": [
    "root = './datasets/cox2'\n",
    "name = 'COX2'\n",
    "\n",
    "# Load the dataset through PyG\n",
    "pyg_dataset = TUDataset(root, name)\n",
    "# 函数是 PyG 的 from torch_geometric.datasets import TUDataset\n",
    "\n",
    "# Convert to a list of deepsnap graphs\n",
    "# 转变成 deepsnap 图列表\n",
    "graphs = GraphDataset.pyg_to_graphs(pyg_dataset)\n",
    "\n",
    "# Convert list of deepsnap graphs to deepsnap dataset with specified task=graph\n",
    "# 将这个图列表转成 deepsnap 数据集，且指定为图级别任务\n",
    "dataset = GraphDataset(graphs, task='graph')\n",
    "print(dataset)"
   ]
  },
  {
   "cell_type": "markdown",
   "metadata": {
    "id": "7sCV3xJWCddX"
   },
   "source": [
    "## Question 2.2: What is the label of the graph (index 100 in the COX2 dataset)? (5 points)\n",
    "\n",
    "Submit your answers on Gradescope."
   ]
  },
  {
   "cell_type": "markdown",
   "metadata": {},
   "source": [
    "## 问题 2.2: (COX2 dataset 中索引 100 的那个) 图的类别是什么? (5 points)"
   ]
  },
  {
   "cell_type": "code",
   "execution_count": 19,
   "metadata": {
    "id": "LIis9oTZAfs3"
   },
   "outputs": [
    {
     "name": "stdout",
     "output_type": "stream",
     "text": [
      "Graph(G=[], edge_index=[2, 82], edge_label_index=[2, 82], graph_label=[1], node_feature=[39, 35], node_label_index=[39], task=[])\n",
      "Graph with index 100 has label 0\n"
     ]
    }
   ],
   "source": [
    "def get_graph_class(dataset, idx):\n",
    "    # TODO: Implement this function that takes a deepsnap dataset object,\n",
    "    # the index of the graph in the dataset, and returns the class/label \n",
    "    # of the graph (in integer).\n",
    "    '''\n",
    "    TODO: 实现函数，将 deepsnap dataset 对象、图在 dataset 中的索引作为输入；\n",
    "    返回图的类别/标签（整数）\n",
    "    '''\n",
    "    label = -1\n",
    "\n",
    "    ############# Your code here ############\n",
    "    ## (~1 line of code)\n",
    "    ## Note\n",
    "    ## 1. The label refers to the graph-level attribute\n",
    "    '''\n",
    "    至多一行，找出图级别的属性（attribute）\n",
    "    '''\n",
    "    label=dataset[idx].graph_label.item()\n",
    "\n",
    "    #########################################\n",
    "\n",
    "    return label\n",
    "\n",
    "graph_0 = dataset[0]\n",
    "print(graph_0)\n",
    "idx = 100\n",
    "label = get_graph_class(dataset, idx)\n",
    "print('Graph with index {} has label {}'.format(idx, label))"
   ]
  },
  {
   "cell_type": "markdown",
   "metadata": {
    "id": "fKhcVeAhCwoY"
   },
   "source": [
    "## Question 2.3: What is the number of edges for the graph (index 200 in the COX2 dataset)? (5 points)\n",
    "\n",
    "Submit your answers on Gradescope."
   ]
  },
  {
   "cell_type": "markdown",
   "metadata": {},
   "source": [
    "## 问题 2.3:  (COX2 dataset 中索引 200 的) 图的边有多少？"
   ]
  },
  {
   "cell_type": "code",
   "execution_count": 20,
   "metadata": {
    "id": "f5m2DOfhBtWv"
   },
   "outputs": [
    {
     "name": "stdout",
     "output_type": "stream",
     "text": [
      "Graph with index 200 has 49 edges\n"
     ]
    }
   ],
   "source": [
    "def get_graph_num_edges(dataset, idx):\n",
    "    # TODO: Implement this function that takes a deepsnap dataset object,\n",
    "    # the index of the graph in dataset, and returns the number of \n",
    "    # edges in the graph (in integer).\n",
    "    '''\n",
    "    TODO: 实现函数，将 deepsnap dataset 对象、图在 dataset 中的索引作为输入；\n",
    "    返回图的边数（整数）\n",
    "    '''\n",
    "    num_edges = 0\n",
    "  \n",
    "    ############# Your code here ############\n",
    "    ## (~1 lines of code)\n",
    "    ## Note\n",
    "    ## 1. You can use the class property directly\n",
    "    '''\n",
    "    直接调用类的属性就可，1行搞定！\n",
    "    '''\n",
    "    num_edges=dataset[idx].num_edges  \n",
    "    # https://snap.stanford.edu/deepsnap/modules/graph.html#deepsnap.graph.Graph.num_edges\n",
    "    #########################################\n",
    "\n",
    "    return num_edges\n",
    "\n",
    "idx = 200\n",
    "num_edges = get_graph_num_edges(dataset, idx)\n",
    "print('Graph with index {} has {} edges'.format(idx, num_edges))"
   ]
  },
  {
   "cell_type": "markdown",
   "metadata": {
    "id": "AXa7yIG4E0Fp"
   },
   "source": [
    "# 3 DeepSNAP Advanced\n",
    "\n",
    "We have learned the basic use of DeepSNAP graph and dataset :)\n",
    "\n",
    "Lets move on to some more advanced functionalities.\n",
    "\n",
    "In this section we will use DeepSNAP for faeture computation and transductive/inductive splittings."
   ]
  },
  {
   "cell_type": "markdown",
   "metadata": {},
   "source": [
    "# 3 DeepSNAP 进阶\n",
    "\n",
    "既然我们已经知道了 DeepSNAP 图和数据集的基础，就继续高点进阶的功能吧~ 0v0\n",
    "\n",
    "本节我们将使用 DeepSNAP 进行特征计算，以及 transductive/inductive 分割\n",
    "\n",
    "\n",
    "\n",
    "- **Transductive learning**: unlabelled data is the testing data\n",
    "- **Inductive learning**: unlabelled data is not the testing data\n",
    "\n",
    "在训练过程中，已知 testing data（unlabelled data）是 transductive learing (比如半监督的节点分类)\n",
    "\n",
    "在训练过程中，不知道 testing data ，训练好模型后去解决未知的 testing data 是 inductive learing （比如图分类）\n",
    "\n"
   ]
  },
  {
   "cell_type": "markdown",
   "metadata": {
    "id": "Y5fsGBLY8cxa"
   },
   "source": [
    "## Setup"
   ]
  },
  {
   "cell_type": "code",
   "execution_count": 22,
   "metadata": {
    "id": "g-jgRLiQ8cSj"
   },
   "outputs": [],
   "source": [
    "import torch\n",
    "import networkx as nx\n",
    "import matplotlib.pyplot as plt\n",
    "\n",
    "from deepsnap.graph import Graph\n",
    "from deepsnap.batch import Batch\n",
    "from deepsnap.dataset import GraphDataset\n",
    "from torch_geometric.datasets import Planetoid, TUDataset\n",
    "\n",
    "from torch.utils.data import DataLoader"
   ]
  },
  {
   "cell_type": "markdown",
   "metadata": {
    "id": "HnazPGGAJAZN"
   },
   "source": [
    "## Data Split in Graphs\n",
    "\n",
    "Data splitting in graphs can be much harder than that in CV or NLP.\n",
    "\n",
    "In general, the data splitting in graphs can be divided into two settings, **inductive** and **transductive**."
   ]
  },
  {
   "cell_type": "markdown",
   "metadata": {},
   "source": [
    "## 图数据分割\n",
    "\n",
    "图数据的分割比 CV 和 NLP 里面的难多了 QwQ.\n",
    "\n",
    "总的来说，图数据分割分类两种类别：\n",
    "- **inductive** \n",
    "- **transductive**."
   ]
  },
  {
   "cell_type": "markdown",
   "metadata": {
    "id": "l9KG_MhqsWBp"
   },
   "source": [
    "\n",
    "## Inductive spliting\n",
    "\n",
    "As what we have learned in the lecture, inductive setting will split multiple graphs into each training/valiation and test sets.\n",
    "\n",
    "Here is an example of DeepSNAP inductive splitting for a list of graphs in the graph level task (graph classification etc.)"
   ]
  },
  {
   "cell_type": "markdown",
   "metadata": {},
   "source": [
    "## Inductive 分割\n",
    "\n",
    "和我们在课程中学的一样，inductive 设置将把多个图分为训练/验证以及测试集。\n",
    "\n",
    "这里是一个 DeepSNAP inductive 分割的例子，用于图级别的任务（比如图分类）\n"
   ]
  },
  {
   "cell_type": "code",
   "execution_count": 23,
   "metadata": {
    "id": "Gpc6bTm3GF02"
   },
   "outputs": [
    {
     "name": "stdout",
     "output_type": "stream",
     "text": [
      "COX2 train dataset: GraphDataset(373)\n",
      "COX2 validation dataset: GraphDataset(46)\n",
      "COX2 test dataset: GraphDataset(48)\n"
     ]
    }
   ],
   "source": [
    "root = './datasets/cox2'\n",
    "name = 'COX2'\n",
    "\n",
    "pyg_dataset = TUDataset(root, name)\n",
    "\n",
    "graphs = GraphDataset.pyg_to_graphs(pyg_dataset)\n",
    "\n",
    "# Here we specify the task as graph-level task such as graph classification\n",
    "# 我们指定数据集为图级别的任务，比如图分类\n",
    "task = 'graph'\n",
    "dataset = GraphDataset(graphs, task=task)\n",
    "\n",
    "# Specify transductive=False (inductive)\n",
    "# 指定 transductive=False 就是 inductive 了\n",
    "dataset_train, dataset_val, dataset_test = dataset.split(transductive=False, split_ratio=[0.8, 0.1, 0.1])\n",
    "\n",
    "print(\"COX2 train dataset: {}\".format(dataset_train))\n",
    "print(\"COX2 validation dataset: {}\".format(dataset_val))\n",
    "print(\"COX2 test dataset: {}\".format(dataset_test))"
   ]
  },
  {
   "cell_type": "markdown",
   "metadata": {
    "id": "yWKQwa4WsgQp"
   },
   "source": [
    "## Transductive Split\n",
    "\n",
    "In transductive setting, the training /validation / test sets are on the same graph.\n",
    "\n",
    "Here we transductively split the CORA graph in the node level task. \n",
    "\n",
    "(Notice that in DeepSNAP default setting the split is random, but you can also make a fixed split by specifying `fixed_split=True` when loading the dataset from PyG or changing the `node_label_index` directly)."
   ]
  },
  {
   "cell_type": "markdown",
   "metadata": {
    "id": "yWKQwa4WsgQp"
   },
   "source": [
    "## Transductive 分割\n",
    "\n",
    "Transductive 指的是, 训练/验证/测试集都在同一张图上.\n",
    "\n",
    "这里我们将 CORA 图的节点任务数据集进行 transductively split. \n",
    "\n",
    "(注意， DeepSNAP 默认分割是随机的，但是当从 PyG 加载数据，或者直接改 `node_label_index` 之后，你也可以使用 `fixed_split=True` 固定分割)."
   ]
  },
  {
   "cell_type": "code",
   "execution_count": 24,
   "metadata": {
    "id": "b5OdxSg4sfyR"
   },
   "outputs": [
    {
     "name": "stdout",
     "output_type": "stream",
     "text": [
      "Cora train dataset: GraphDataset(1)\n",
      "Cora validation dataset: GraphDataset(1)\n",
      "Cora test dataset: GraphDataset(1)\n",
      "Original Cora has 2708 nodes\n",
      "After the split, Cora has 2166 training nodes\n",
      "After the split, Cora has 270 validation nodes\n",
      "After the split, Cora has 272 test nodes\n"
     ]
    }
   ],
   "source": [
    "root = './datasets/cora'\n",
    "name = 'Cora'\n",
    "\n",
    "pyg_dataset = Planetoid(root, name)\n",
    "\n",
    "graphs = GraphDataset.pyg_to_graphs(pyg_dataset)\n",
    "\n",
    "# Here we specify the task as node-level task such as node classification\n",
    "# 这里指定为诸如节点分类这样的节点级任务\n",
    "task = 'node'\n",
    "\n",
    "dataset = GraphDataset(graphs, task=task)\n",
    "\n",
    "# Specify we want the transductive splitting\n",
    "# 指定使用 transductive 分割\n",
    "dataset_train, dataset_val, dataset_test = dataset.split(transductive=True, split_ratio=[0.8, 0.1, 0.1])\n",
    "\n",
    "print(\"Cora train dataset: {}\".format(dataset_train))\n",
    "print(\"Cora validation dataset: {}\".format(dataset_val))\n",
    "print(\"Cora test dataset: {}\".format(dataset_test))\n",
    "\n",
    "print(\"Original Cora has {} nodes\".format(dataset.num_nodes[0]))\n",
    "\n",
    "# The nodes in each set can be find in node_label_index\n",
    "# 每个集合中的节点可以在 node_label_index 中找到\n",
    "print(\"After the split, Cora has {} training nodes\".format(dataset_train[0].node_label_index.shape[0]))\n",
    "print(\"After the split, Cora has {} validation nodes\".format(dataset_val[0].node_label_index.shape[0]))\n",
    "print(\"After the split, Cora has {} test nodes\".format(dataset_test[0].node_label_index.shape[0]))"
   ]
  },
  {
   "cell_type": "markdown",
   "metadata": {
    "id": "d7ePKgM00lGE"
   },
   "source": [
    "## Edge Level Split\n",
    "\n",
    "Compared to the node and graph level splitting, edge level splitting is a little bit tricky ;)\n",
    "\n",
    "Usually in edge level splitting, we need to sample negative edges, split positive edges into different datasets, split training edges into message passing edges and supervision edges, and resample the negative edges during the training etc.\n",
    "\n",
    "### All Mode\n",
    "\n",
    "Now lets start with a simpler edge level splitting mode, the `edge_train_mode=\"all\"` mode in DeepSNAP."
   ]
  },
  {
   "cell_type": "markdown",
   "metadata": {
    "id": "SnzISX5RoiR6"
   },
   "source": [
    "## 边级分割\n",
    "相较于节点和图的分割，边级分割优点小难\n",
    "\n",
    "通常对于边级别的分割，我们需要采样负边，将正变分割为不同的集合：\n",
    "- 将训练边放到 message passing 边和 supervision 边\n",
    "- 在训练时不断重采样 negative 边。\n",
    "\n",
    "\n",
    "### All Mode\n",
    "\n",
    "让我们从个简单的边分割模式开始, 即 DeepSNAP的 `edge_train_mode=\"all\"` 模式."
   ]
  },
  {
   "cell_type": "code",
   "execution_count": 25,
   "metadata": {
    "id": "_D104xO6137n"
   },
   "outputs": [
    {
     "name": "stdout",
     "output_type": "stream",
     "text": [
      "Cora train dataset: GraphDataset(1)\n",
      "Cora validation dataset: GraphDataset(1)\n",
      "Cora test dataset: GraphDataset(1)\n"
     ]
    }
   ],
   "source": [
    "root = './datasets/cora'\n",
    "name = 'Cora'\n",
    "\n",
    "pyg_dataset = Planetoid(root, name)\n",
    "\n",
    "graphs = GraphDataset.pyg_to_graphs(pyg_dataset)\n",
    "\n",
    "# Specify task as link_pred for edge-level task\n",
    "# 指定 link_pred 即边级任务\n",
    "task = 'link_pred'\n",
    "\n",
    "# Specify the train mode, \"all\" mode is default for deepsnap dataset\n",
    "# 指定训练模式，“all” 模式是在 deepsnap dataset 中的默认选项\n",
    "edge_train_mode = \"all\"\n",
    "\n",
    "dataset = GraphDataset(graphs, task=task, edge_train_mode=edge_train_mode)\n",
    "\n",
    "# Transductive link prediction split\n",
    "# Transductive 边预测分割\n",
    "dataset_train, dataset_val, dataset_test = dataset.split(transductive=True, split_ratio=[0.8, 0.1, 0.1])\n",
    "\n",
    "print(\"Cora train dataset: {}\".format(dataset_train))\n",
    "print(\"Cora validation dataset: {}\".format(dataset_val))\n",
    "print(\"Cora test dataset: {}\".format(dataset_test))"
   ]
  },
  {
   "cell_type": "markdown",
   "metadata": {
    "id": "GscopwOXC_Y7"
   },
   "source": [
    "In DeepSNAP, the indices of supervision edges are stored in `edge_label_index` tensor and the corresponding edge labels are stored in `edge_label` tensor."
   ]
  },
  {
   "cell_type": "markdown",
   "metadata": {
    "id": "GscopwOXC_Y7"
   },
   "source": [
    "在 DeepSNAP 中, 监督边的索引被储存在 `edge_label_index` 张量中，而对应的边标签被存在 `edge_label` 张量中."
   ]
  },
  {
   "cell_type": "code",
   "execution_count": 26,
   "metadata": {
    "id": "XJF8fZnA2eLR"
   },
   "outputs": [
    {
     "name": "stdout",
     "output_type": "stream",
     "text": [
      "Original Cora graph has 5278 edges\n",
      "Because Cora graph is undirected, the original edge_index has shape torch.Size([2, 10556])\n",
      "The training set has message passing edge index shape torch.Size([2, 8444])\n",
      "The training set has supervision edge index shape torch.Size([2, 16888])\n",
      "The validation set has message passing edge index shape torch.Size([2, 8444])\n",
      "The validation set has supervision edge index shape torch.Size([2, 2108])\n",
      "The test set has message passing edge index shape torch.Size([2, 9498])\n",
      "The test set has supervision edge index shape torch.Size([2, 2116])\n"
     ]
    }
   ],
   "source": [
    "print(\"Original Cora graph has {} edges\".format(dataset[0].num_edges))\n",
    "print(\"Because Cora graph is undirected, the original edge_index has shape {}\".format(dataset[0].edge_index.shape))\n",
    "\n",
    "print(\"The training set has message passing edge index shape {}\".format(dataset_train[0].edge_index.shape))\n",
    "print(\"The training set has supervision edge index shape {}\".format(dataset_train[0].edge_label_index.shape))\n",
    "\n",
    "print(\"The validation set has message passing edge index shape {}\".format(dataset_val[0].edge_index.shape))\n",
    "print(\"The validation set has supervision edge index shape {}\".format(dataset_val[0].edge_label_index.shape))\n",
    "\n",
    "print(\"The test set has message passing edge index shape {}\".format(dataset_test[0].edge_index.shape))\n",
    "print(\"The test set has supervision edge index shape {}\".format(dataset_test[0].edge_label_index.shape))"
   ]
  },
  {
   "cell_type": "markdown",
   "metadata": {
    "id": "s6BX-I_oEKQX"
   },
   "source": [
    "We can see that both training and validation sets have the same message passing edges (`edge_index`) in the `all` mode. Also, in training set, the postive supervision edges (`edge_label_index`) are same with the message passing edges. However, in the test set the message passing edges are the combination of message passing edges from training and validation sets.\n",
    "\n",
    "Notice that the `edge_label` and `edge_label_index` have included the negative edges (default number of negative edges is same with the number of positive edges).\n",
    "\n",
    "Now, lets implement a function that checks whether two edge index tensors are disjoint and explore more edge splitting properties by using that function."
   ]
  },
  {
   "cell_type": "markdown",
   "metadata": {
    "id": "s6BX-I_oEKQX"
   },
   "source": [
    "\n",
    "我们可以看到，`all` 模式中，训练和验证集都是用相同的 message passing 边 (`edge_index`)。而且在训练集中，正监督边(`edge_label_index`) 和 message passing 边是一样的。\n",
    "但是在测试集中，message passing 边是训练集和验证集中 message passing 边的组合。\n",
    "\n",
    "注意 `edge_label` 和 `edge_label_index` 已经包含了负边（负边默认和正边一样多）\n",
    "\n",
    "现在，让我们实现一个可以检查两个边的索引张量是否 disjoint 的函数，并使用这个函数探索更多有关边分割的性质。\n",
    "\n"
   ]
  },
  {
   "cell_type": "markdown",
   "metadata": {
    "id": "YOZHDskbAKN6"
   },
   "source": [
    "## Question 3.1 - 3.5: Implement the function that checks whether two edge_index tensors are disjoint. Then answer the True/False questions below. (5 points)\n",
    "\n",
    "Submit your answers on Gradescope."
   ]
  },
  {
   "cell_type": "markdown",
   "metadata": {
    "id": "YOZHDskbAKN6"
   },
   "source": [
    "## 问题 3.1 - 3.5: 实现函数，检查两个 edge_index tensor 是否是 disjoint 的。之后回答下面的几个 True/ False 问题\n",
    "\n",
    "Submit your answers on Gradescope."
   ]
  },
  {
   "cell_type": "code",
   "execution_count": 27,
   "metadata": {
    "id": "wgRYdyPp8EmO"
   },
   "outputs": [],
   "source": [
    "def edge_indices_disjoint(edge_index_1, edge_index_2):\n",
    "    # TODO: Implement this function that takes two edge index tensors,\n",
    "    # and returns whether these two edge index tensors are disjoint.\n",
    "    '''\n",
    "    TODO: 实现函数，接受两个边索引 tensor 作为输入，返回这两个边索引 tensor 是否 disjoint\n",
    "    '''\n",
    "    disjoint = None\n",
    "\n",
    "    ############# Your code here ############\n",
    "    ## (~5 lines of code)\n",
    "    ## Note\n",
    "    ## 1. Here disjoint means that there is no single edge belongs to either edge index tensors\n",
    "    ## 2. You do not need to consider the undirected case. For example, if edge_index_1 contains\n",
    "    ## edge (a, b) and edge_index_2 contains edge (b, a). We will treat them as disjoint in this\n",
    "    ## function.\n",
    "    '''\n",
    "    至多五行代码，注意：\n",
    "    1. disjoint 意味着没有一个边存在于任一个边索引张量\n",
    "    2. 2. 你不需要考虑无向情况。 例如，如果 edge_index_1 包含边 (a, b) 而 edge_index_2 包含边 (b, a)。\n",
    "    在这个函数中，我们将它们视为不相交的。\n",
    "    '''\n",
    "    # 遍历应该会贼慢，所以用集合\n",
    "    edge_set=set()\n",
    "    for i in range(edge_index_1.shape[1]):\n",
    "        e=tuple(edge_index_1[:,i].numpy())\n",
    "        edge_set.add(e)\n",
    "    for j in range(edge_index_2.shape[1]):\n",
    "        e1=tuple(edge_index_2[:,j].numpy())\n",
    "        if e1 in edge_set:\n",
    "            return False\n",
    "        e2=tuple(edge_index_2[:,j].numpy()[::-1])\n",
    "        if e2 in edge_set:\n",
    "            return False\n",
    "    disjoint=True\n",
    "\n",
    "    #########################################\n",
    "\n",
    "    return disjoint"
   ]
  },
  {
   "cell_type": "code",
   "execution_count": 29,
   "metadata": {},
   "outputs": [
    {
     "name": "stdout",
     "output_type": "stream",
     "text": [
      "True\n",
      "True\n",
      "False\n",
      "True\n",
      "eg1: (1, 2)\n",
      "eg4[::-1]: [1 2]\n"
     ]
    }
   ],
   "source": [
    "# EX： PRW 大佬的集合教学\n",
    "\n",
    "#PRW\n",
    "s=set()\n",
    "eg1=tuple(torch.tensor([1,2]).numpy())\n",
    "eg2=tuple(torch.tensor([1,2]).numpy())\n",
    "eg3=tuple(torch.tensor([2,1]).numpy())\n",
    "eg4=tuple(torch.tensor([2,1]).numpy()[::-1])\n",
    "s.add(eg1)\n",
    "print(eg1 in s)\n",
    "print(eg2 in s)\n",
    "print(eg3 in s)\n",
    "print(eg4 in s)\n",
    "\n",
    "print('eg1:', eg1)\n",
    "eg4=torch.tensor([2,1]).numpy()[::-1]\n",
    "print('eg4[::-1]:', eg4)\n"
   ]
  },
  {
   "cell_type": "code",
   "execution_count": 30,
   "metadata": {
    "id": "EL4ASIDDEIUf"
   },
   "outputs": [
    {
     "name": "stdout",
     "output_type": "stream",
     "text": [
      "3.1 Training (supervision) positve and negative edges are disjoint = True\n",
      "3.2 Validation (supervision) positve and negative edges are disjoint = True\n",
      "3.3 Test (supervision) positve and negative edges are disjoint = True\n",
      "3.4 Test (supervision) positve and validation (supervision) positve edges are disjoint = True\n",
      "3.5 Validation (supervision) positve and training (supervision) positve edges are disjoint = True\n"
     ]
    }
   ],
   "source": [
    "num_train_edges = dataset_train[0].edge_label_index.shape[1] // 2\n",
    "train_pos_edge_index = dataset_train[0].edge_label_index[:, :num_train_edges]\n",
    "train_neg_edge_index = dataset_train[0].edge_label_index[:, num_train_edges:]\n",
    "print(\"3.1 Training (supervision) positve and negative edges are disjoint = {}\"\\\n",
    "        .format(edge_indices_disjoint(train_pos_edge_index, train_neg_edge_index)))\n",
    "\n",
    "num_val_edges = dataset_val[0].edge_label_index.shape[1] // 2\n",
    "val_pos_edge_index = dataset_val[0].edge_label_index[:, :num_val_edges]\n",
    "val_neg_edge_index = dataset_val[0].edge_label_index[:, num_val_edges:]\n",
    "print(\"3.2 Validation (supervision) positve and negative edges are disjoint = {}\"\\\n",
    "        .format(edge_indices_disjoint(val_pos_edge_index, val_neg_edge_index)))\n",
    "\n",
    "num_test_edges = dataset_test[0].edge_label_index.shape[1] // 2\n",
    "test_pos_edge_index = dataset_test[0].edge_label_index[:, :num_test_edges]\n",
    "test_neg_edge_index = dataset_test[0].edge_label_index[:, num_test_edges:]\n",
    "print(\"3.3 Test (supervision) positve and negative edges are disjoint = {}\"\\\n",
    "        .format(edge_indices_disjoint(test_pos_edge_index, test_neg_edge_index)))\n",
    "\n",
    "print(\"3.4 Test (supervision) positve and validation (supervision) positve edges are disjoint = {}\"\\\n",
    "        .format(edge_indices_disjoint(test_pos_edge_index, val_pos_edge_index)))\n",
    "print(\"3.5 Validation (supervision) positve and training (supervision) positve edges are disjoint = {}\"\\\n",
    "        .format(edge_indices_disjoint(val_pos_edge_index, train_pos_edge_index)))"
   ]
  },
  {
   "cell_type": "markdown",
   "metadata": {
    "id": "8jLoVN5ZBTuA"
   },
   "source": [
    "### Disjoint Mode\n",
    "\n",
    "Now lets look at a relatively more complex transductive edge split setting, which is the `edge_train_mode=\"disjoint\"` mode in DeepSNAP (also the transductive link prediction splitting talked in the lecture)"
   ]
  },
  {
   "cell_type": "markdown",
   "metadata": {
    "id": "8jLoVN5ZBTuA"
   },
   "source": [
    "### Disjoint 模式（不相交）\n",
    "\n",
    "让我们现在看一个相对更复杂的 transductive 边分割设置，即 deepsnap 中的 `edge_train_mode=\"disjoint\"` 模式。(其实也就是课上讲的那个 transductive 边预测分割模式)\n"
   ]
  },
  {
   "cell_type": "code",
   "execution_count": 31,
   "metadata": {
    "id": "3Rqzfb-0BTBm"
   },
   "outputs": [
    {
     "name": "stdout",
     "output_type": "stream",
     "text": [
      "The edge index of original graph has shape: torch.Size([2, 10556])\n",
      "The edge index of training message edges has shape: torch.Size([2, 6754])\n",
      "The edge index of training supervision edges has shape: torch.Size([2, 3380])\n",
      "The edge index of validation message edges has shape: torch.Size([2, 8444])\n",
      "The edge index of validation supervision edges has shape: torch.Size([2, 2108])\n",
      "The edge index of test message edges has shape: torch.Size([2, 9498])\n",
      "The edge index of test supervision edges has shape: torch.Size([2, 2116])\n"
     ]
    }
   ],
   "source": [
    "edge_train_mode = \"disjoint\"\n",
    "\n",
    "dataset = GraphDataset(graphs, task='link_pred', edge_train_mode=edge_train_mode)\n",
    "orig_edge_index = dataset[0].edge_index\n",
    "dataset_train, dataset_val, dataset_test = dataset.split(\n",
    "    transductive=True, split_ratio=[0.8, 0.1, 0.1])\n",
    "\n",
    "train_message_edge_index = dataset_train[0].edge_index\n",
    "train_sup_edge_index = dataset_train[0].edge_label_index\n",
    "val_sup_edge_index = dataset_val[0].edge_label_index\n",
    "test_sup_edge_index = dataset_test[0].edge_label_index\n",
    "\n",
    "print(\"The edge index of original graph has shape: {}\".format(orig_edge_index.shape))\n",
    "print(\"The edge index of training message edges has shape: {}\".format(train_message_edge_index.shape))\n",
    "print(\"The edge index of training supervision edges has shape: {}\".format(train_sup_edge_index.shape))\n",
    "print(\"The edge index of validation message edges has shape: {}\".format(dataset_val[0].edge_index.shape))\n",
    "print(\"The edge index of validation supervision edges has shape: {}\".format(val_sup_edge_index.shape))\n",
    "print(\"The edge index of test message edges has shape: {}\".format(dataset_test[0].edge_index.shape))\n",
    "print(\"The edge index of test supervision edges has shape: {}\".format(test_sup_edge_index.shape))"
   ]
  },
  {
   "cell_type": "markdown",
   "metadata": {
    "id": "TUkBhiJNciol"
   },
   "source": [
    "You can see that the training / validation message passing edges and training supervision edges are splitted differently in those two modes!\n",
    "\n",
    "### Resample Negative Edges\n",
    "\n",
    "During each training iteration, we usually need to resample the negative edges.\n",
    "\n",
    "Below we print the training and validation sets negative edges in two training iterations.\n",
    "\n",
    "You should find that the negative edges in training set will be resampled."
   ]
  },
  {
   "cell_type": "markdown",
   "metadata": {
    "id": "2WKfRjqAJHtK"
   },
   "source": [
    "你可以看见，训练/验证 message passing 边和训练监督边在这两个模式中分割的不一样！\n",
    "\n",
    "### 负边重采样\n",
    "\n",
    "在每一轮训练 iter 中，我们都需要重采样负边。\n",
    "\n",
    "我们在下面打印出在两个训练 iter 中，训练和验证集的负边。\n",
    "\n",
    "你应该发现训练集的负边被重采样了。"
   ]
  },
  {
   "cell_type": "code",
   "execution_count": 32,
   "metadata": {
    "id": "AMEbnx63JHWj"
   },
   "outputs": [
    {
     "name": "stdout",
     "output_type": "stream",
     "text": [
      "First iteration training negative edges:\n",
      "tensor([[1301, 2647, 2485,  ...,  346, 2023, 1713],\n",
      "        [  70, 1641,  300,  ..., 1138, 1005, 1122]])\n",
      "Second iteration training negative edges:\n",
      "tensor([[1940,  562, 1141,  ...,   16,  109,  462],\n",
      "        [1116, 1054, 1838,  ...,  537, 1260,  744]])\n",
      "First iteration validation negative edges:\n",
      "tensor([[1637,  877, 1925,  ..., 1086, 1482,  226],\n",
      "        [ 151, 2384, 1966,  ..., 1046, 2084, 2430]])\n",
      "Second iteration validation negative edges:\n",
      "tensor([[1637,  877, 1925,  ..., 1086, 1482,  226],\n",
      "        [ 151, 2384, 1966,  ..., 1046, 2084, 2430]])\n"
     ]
    }
   ],
   "source": [
    "dataset = GraphDataset(graphs, task='link_pred', edge_train_mode=\"disjoint\")\n",
    "datasets = {}\n",
    "follow_batch = []\n",
    "datasets['train'], datasets['val'], datasets['test'] = dataset.split(\n",
    "    transductive=True, split_ratio=[0.8, 0.1, 0.1])\n",
    "dataloaders = {\n",
    "  split: DataLoader(\n",
    "    ds, collate_fn=Batch.collate(follow_batch),\n",
    "    batch_size=1, shuffle=(split=='train')\n",
    "  )\n",
    "  for split, ds in datasets.items()\n",
    "}\n",
    "neg_edges_1 = None\n",
    "for batch in dataloaders['train']:\n",
    "    num_edges = batch.edge_label_index.shape[1] // 2\n",
    "    neg_edges_1 = batch.edge_label_index[:, num_edges:]\n",
    "    print(\"First iteration training negative edges:\")\n",
    "    print(neg_edges_1)\n",
    "    break\n",
    "neg_edges_2 = None\n",
    "for batch in dataloaders['train']:\n",
    "    num_edges = batch.edge_label_index.shape[1] // 2\n",
    "    neg_edges_2 = batch.edge_label_index[:, num_edges:]\n",
    "    print(\"Second iteration training negative edges:\")\n",
    "    print(neg_edges_2)\n",
    "    break\n",
    " \n",
    "\n",
    "neg_edges_1 = None\n",
    "for batch in dataloaders['val']:\n",
    "    num_edges = batch.edge_label_index.shape[1] // 2\n",
    "    neg_edges_1 = batch.edge_label_index[:, num_edges:]\n",
    "    print(\"First iteration validation negative edges:\")\n",
    "    print(neg_edges_1)\n",
    "    break\n",
    "\n",
    "neg_edges_2 = None\n",
    "for batch in dataloaders['val']:\n",
    "    num_edges = batch.edge_label_index.shape[1] // 2\n",
    "    neg_edges_2 = batch.edge_label_index[:, num_edges:]\n",
    "    print(\"Second iteration validation negative edges:\")\n",
    "    print(neg_edges_2)\n",
    "    break"
   ]
  },
  {
   "cell_type": "markdown",
   "metadata": {
    "id": "DEzqh7wEdrh0"
   },
   "source": [
    "If you are interested in more graph splitting settings, please refer to the DeepSNAP dataset [documentation](https://snap.stanford.edu/deepsnap/modules/dataset.html).\n",
    "\n",
    "## Graph Transformation and Feature Computation\n",
    "\n",
    "The other DeepSNAP core functionality is graph transformation / feature computation.\n",
    "\n",
    "In DeepSNAP, we divide graph transformation / feature computation into two different types. One is the transformation before training (transform the whole dataset before training directly) and another one is the transformation during training (transform batches of graphs).\n",
    "\n",
    "Here is an example that uses NetworkX back end to calculate the PageRank value and update the value to tensors before the training (transform the dataset)."
   ]
  },
  {
   "cell_type": "markdown",
   "metadata": {
    "id": "XkrYyeSUI_9_"
   },
   "source": [
    "如果你对图分割设置感兴趣，可以参考 DeepSNAP 的[官方文档](https://snap.stanford.edu/deepsnap/modules/dataset.html).\n",
    "\n",
    "## 图变换与特征计算\n",
    "\n",
    "DeepSNAP 的另一个核心功能是图变换/特征计算。\n",
    "\n",
    "在 DeepSNAP 中，我们将图变换/特征计算分为两种不同的类型\n",
    "- 一种是训练前的转换（直接在训练前变换整个数据集），\n",
    "- 另一种是训练期间的转换（转换以 batch 为单位的图）。\n",
    "\n",
    "下面是一个使用 NetworkX 后端计算 PageRank 值并在训练前将值更新为张量的示例（转换数据集）。"
   ]
  },
  {
   "cell_type": "code",
   "execution_count": 33,
   "metadata": {
    "id": "gnAVbZINLZ4I"
   },
   "outputs": [
    {
     "name": "stdout",
     "output_type": "stream",
     "text": [
      "Number of features before transformation: 35\n",
      "Number of features after transformation: 36\n"
     ]
    }
   ],
   "source": [
    "def pagerank_transform_fn(graph):\n",
    "\n",
    "    # Get the referenced networkx graph\n",
    "    G = graph.G\n",
    "\n",
    "    # Calculate the pagerank by using networkx\n",
    "    pr = nx.pagerank(G)\n",
    "\n",
    "    # Transform the pagerank values to tensor\n",
    "    pr_feature = torch.tensor([pr[node] for node in range(graph.num_nodes)], dtype=torch.float32)\n",
    "    pr_feature = pr_feature.view(graph.num_nodes, 1)\n",
    "\n",
    "    # Concat the pagerank values to the node feature\n",
    "    graph.node_feature = torch.cat([graph.node_feature, pr_feature], dim=-1)\n",
    "\n",
    "root = './datasets/cox2'\n",
    "name = 'COX2'\n",
    "pyg_dataset = TUDataset(root, name)\n",
    "graphs = GraphDataset.pyg_to_graphs(pyg_dataset)\n",
    "dataset = GraphDataset(graphs, task='graph')\n",
    "print(\"Number of features before transformation: {}\".format(dataset.num_node_features))\n",
    "dataset.apply_transform(pagerank_transform_fn, update_tensor=False)\n",
    "print(\"Number of features after transformation: {}\".format(dataset.num_node_features))"
   ]
  },
  {
   "cell_type": "markdown",
   "metadata": {},
   "source": [
    "补充一点其他的特征计算"
   ]
  },
  {
   "cell_type": "code",
   "execution_count": 35,
   "metadata": {},
   "outputs": [
    {
     "name": "stdout",
     "output_type": "stream",
     "text": [
      "<class 'networkx.classes.graph.Graph'>\n",
      "{0: 0.03320187324334541, 1: 0.03140409249831948, 2: 0.03153195626178245, 3: 0.033999294562979045, 4: 0.03445399167017414, 5: 0.032311799784932586, 6: 0.0325260484487752, 7: 0.03446771688692439, 8: 0.03492764351353999, 9: 0.03400572002885134, 10: 0.03492764351353999, 11: 0.03446771688692439, 12: 0.03491212916795992, 13: 0.035900570307606516, 14: 0.03617171252798891, 15: 0.035900570307606516, 16: 0.03491212916795992, 17: 0.014094182936016601, 18: 0.05033953008328389, 19: 0.048784416428741144, 20: 0.01421311870261539, 21: 0.01421311870261539, 22: 0.05243329098846763, 23: 0.01347941857377365, 24: 0.013607817899048346, 25: 0.013611921935259813, 26: 0.013742454509271822, 27: 0.013742454509271822, 28: 0.013611921935259813, 29: 0.013737355150878086, 30: 0.0140185909846367, 31: 0.0140185909846367, 32: 0.013737355150878086, 33: 0.014542717197278045, 34: 0.014542717197278045, 35: 0.014542717197278045, 36: 0.014987900051433497, 37: 0.014987900051433497, 38: 0.014987900051433497}\n",
      "{0: 0, 1: 0, 2: 0, 3: 0, 4: 0, 5: 0, 6: 0, 7: 0, 8: 0, 9: 0, 10: 0, 11: 0, 12: 0, 13: 0, 14: 0, 15: 0, 16: 0, 17: 0, 18: 0, 19: 0, 20: 0, 21: 0, 22: 0, 23: 0, 24: 0, 25: 0, 26: 0, 27: 0, 28: 0, 29: 0, 30: 0, 31: 0, 32: 0, 33: 0, 34: 0, 35: 0, 36: 0, 37: 0, 38: 0}\n",
      "39\n"
     ]
    }
   ],
   "source": [
    "print(type(graphs[0].G))\n",
    "print(nx.pagerank(graphs[0].G))\n",
    "print(nx.clustering(graphs[0].G))\n",
    "print(graphs[0].num_nodes)"
   ]
  },
  {
   "cell_type": "markdown",
   "metadata": {
    "id": "LHByE87SQkUw"
   },
   "source": [
    "## Question 3.6: Implement the transformation below and report the clustering coefficient of the node (index 3) of the graph (index 406) in the COX2 dataset. Rounded the answer to two decimal places. (5 points)"
   ]
  },
  {
   "cell_type": "markdown",
   "metadata": {
    "id": "LHByE87SQkUw"
   },
   "source": [
    "## 问题 3.6: 实现如下的变换并且报告 COX2 数据中，图（index 406）节点（index 3）的聚类因子。round 取整为两位小数"
   ]
  },
  {
   "cell_type": "code",
   "execution_count": 36,
   "metadata": {
    "id": "RNEjfOZRNjYb"
   },
   "outputs": [
    {
     "name": "stdout",
     "output_type": "stream",
     "text": [
      "The node has clustering coefficient: 0.17\n"
     ]
    }
   ],
   "source": [
    "def cluster_transform_fn(graph):\n",
    "    # TODO: Implement this function that takes an deepsnap graph object,\n",
    "    # transform the graph by adding nodes clustering coefficient into the \n",
    "    # graph.node_feature\n",
    "    '''\n",
    "    TODO: 实现函数，接收一个 deepsnap 图对象作为输入，\n",
    "    通过将聚类因子增加如 graph.node_feature 来变换图\n",
    "    '''\n",
    "    ############# Your code here ############\n",
    "    ## (~5 lines of code)\n",
    "    ## Note\n",
    "    ## 1. Compute the clustering coefficient value for each node and\n",
    "    ## concat them to the last dimension of graph.node_feature\n",
    "    '''\n",
    "    至多五行代码，注意：\n",
    "    1. 计算每个节点的聚类因子数值，然后 concate 到 graph.node_feature 的最后一个维度\n",
    "    '''\n",
    "    G=graph.G\n",
    "    cc=nx.clustering(G)\n",
    "    cc_feature = torch.tensor([cc[node] for node in range(graph.num_nodes)], dtype=torch.float32)\n",
    "    cc_feature = cc_feature.view(graph.num_nodes, 1)\n",
    "    graph.node_feature = torch.cat([graph.node_feature, cc_feature], dim=-1)\n",
    "    #########################################\n",
    "\n",
    "root = './datasets/cox2'\n",
    "name = 'COX2'\n",
    "pyg_dataset = TUDataset(root, name)\n",
    "graphs = GraphDataset.pyg_to_graphs(pyg_dataset)\n",
    "dataset = GraphDataset(graphs, task='graph')\n",
    "\n",
    "# Transform the dataset\n",
    "dataset.apply_transform(cluster_transform_fn, update_tensor=False)\n",
    "\n",
    "node_idx = 3\n",
    "graph_idx = 406\n",
    "node_feature = dataset[graph_idx].node_feature\n",
    "\n",
    "print(\"The node has clustering coefficient: {}\".format(round(node_feature[node_idx][-1].item(), 2)))"
   ]
  },
  {
   "cell_type": "markdown",
   "metadata": {
    "id": "4P5Ig7XaPYzp"
   },
   "source": [
    "Apart from transforming the dataset, DeepSNAP can also transform the graph (usually the `deepsnap.batch.Batch`) during each training iteration.\n",
    "\n",
    "Also, DeepSNAP supports the synchronization of the transformation between the referenced graph objects and tensor representations. For example, you can just update the NetworkX graph object in the transform function, and by specifying `update_tensor=True` the internal tensor representations will be automatically updated.\n",
    "\n",
    "For more information, please refer to the DeepSNAP [documentation](https://snap.stanford.edu/deepsnap/).\n",
    "\n",
    "\n",
    "# 4 Edge Level Prediction\n",
    "\n",
    "From last section, we know how DeepSNAP transductive split the edges in the link prediction task.\n",
    "\n",
    "Now lets use DeepSNAP and PyG together to implement a edge level prediction (link prediction) model!"
   ]
  },
  {
   "cell_type": "markdown",
   "metadata": {
    "id": "s-YLYMLFQYqp"
   },
   "source": [
    "除了变换数据集之外, DeepSNAP 也可以在训练过程中转换图(虽然通常是 `deepsnap.batch.Batch`).\n",
    "\n",
    "当然，DeepSNAP 也支持图对象和其对应 Tensor 表征之间变换的同步。例如，你可以在变换函数中只更新 NetworkX 图对象，之后通过指定 `update_tensor=True` 即可让对应的 Tensor 表征自动更新。\n",
    "\n",
    "了解更多请参考 DeepSNAP [官方文档](https://snap.stanford.edu/deepsnap/).\n",
    "\n",
    "\n",
    "# 4 边级别预测\n",
    "\n",
    "在上节中，我们知道 DeepSNAP 在边预测任务中如何 trasductive 地分割边\n",
    "\n",
    "现在让我们联合使用 DeepSNAP 和 PyG 来实现一个边级别的预测任务（连接预测）吧！ "
   ]
  },
  {
   "cell_type": "code",
   "execution_count": 37,
   "metadata": {
    "id": "hrKCNtvERypQ"
   },
   "outputs": [],
   "source": [
    "import copy\n",
    "import torch\n",
    "import numpy as np\n",
    "import networkx as nx\n",
    "import matplotlib.pyplot as plt\n",
    "\n",
    "from deepsnap.graph import Graph\n",
    "from deepsnap.batch import Batch\n",
    "from deepsnap.dataset import GraphDataset\n",
    "from torch_geometric.datasets import Planetoid, TUDataset\n",
    "\n",
    "from torch.utils.data import DataLoader\n",
    "\n",
    "import torch.nn.functional as F\n",
    "from torch_geometric.nn import SAGEConv\n",
    "\n",
    "class LinkPredModel(torch.nn.Module):\n",
    "    def __init__(self, input_dim, hidden_dim, num_classes, dropout=0.2):\n",
    "        super(LinkPredModel, self).__init__()\n",
    "\n",
    "        self.conv1 = SAGEConv(input_dim, hidden_dim)\n",
    "        self.conv2 = SAGEConv(hidden_dim, num_classes)\n",
    "\n",
    "        self.loss_fn = None\n",
    "\n",
    "        ############# Your code here #############\n",
    "        ## (~1 line of code)\n",
    "        ## Note\n",
    "        ## 1. Initialize the loss function to BCEWithLogitsLoss\n",
    "        '''\n",
    "        一行代码使用 BCEWithLogitsLoss\n",
    "        '''\n",
    "        self.loss_fn=nn.BCEWithLogitsLoss()\n",
    "        ##########################################\n",
    "\n",
    "        self.dropout = dropout\n",
    "\n",
    "    def reset_parameters(self):\n",
    "        self.conv1.reset_parameters()\n",
    "        self.conv2.reset_parameters()\n",
    "\n",
    "    def forward(self, batch):\n",
    "        node_feature, edge_index, edge_label_index = batch.node_feature, batch.edge_index, batch.edge_label_index\n",
    "        \n",
    "        ############# Your code here #############\n",
    "        ## (~6 line of code)\n",
    "        ## Note\n",
    "        ## 1. Feed the node feature into the first conv layer\n",
    "        ## 2. Add a ReLU after the first conv layer\n",
    "        ## 3. Add dropout after the ReLU (with probability self.dropout)\n",
    "        ## 4. Feed the output to the second conv layer\n",
    "        ## 5. Select the embeddings of the source nodes and destination nodes\n",
    "        ## by using the edge_label_index and compute the similarity of each pair\n",
    "        ## by dot product\n",
    "        '''\n",
    "        至多6行代码，注意：\n",
    "        1. 把节点特征喂给第一个卷积层\n",
    "        2. 在第一个卷积层后面放个 ReLU\n",
    "        3. 记得加 dropout, 概率是 self.dropout\n",
    "        4. 把输出喂给第二个卷积层\n",
    "        5. 通过 edge_label_index 选择源节点和目标节点的嵌入，并通过点乘计算节点对相似度\n",
    "        ''' \n",
    "        pred=self.conv1(node_feature,edge_index)\n",
    "        pred=F.relu(pred)\n",
    "        pred=F.dropout(pred,self.dropout,self.training)  #看到有一个答案没加self.training也能抛出结果。啊这，什么玩意啊到底？\n",
    "        pred=self.conv2(pred,edge_index)\n",
    "        #print(pred.size())  torch.Size([2708, 2])\n",
    "        source_nodes=pred[edge_label_index][0]\n",
    "        #print(edge_label_index.size())  torch.Size([2, 3592])\n",
    "        #print(source_nodes.size())  torch.Size([3592, 2])\n",
    "        destination_nodes=pred[edge_label_index][1]\n",
    "        pred=(source_nodes*destination_nodes).sum(axis=1)\n",
    "        ##########################################\n",
    "\n",
    "        return pred\n",
    "    \n",
    "    def loss(self, pred, link_label):\n",
    "        return self.loss_fn(pred, link_label)"
   ]
  },
  {
   "cell_type": "code",
   "execution_count": 38,
   "metadata": {
    "id": "uuKbGFOu1Ka8"
   },
   "outputs": [],
   "source": [
    "from sklearn.metrics import *\n",
    "\n",
    "def train(model, dataloaders, optimizer, args):\n",
    "    val_max = 0\n",
    "    best_model = model\n",
    "\n",
    "    for epoch in range(1, args[\"epochs\"]):\n",
    "        for i, batch in enumerate(dataloaders['train']):\n",
    "            \n",
    "            batch.to(args[\"device\"])\n",
    "\n",
    "            ############# Your code here #############\n",
    "            ## (~6 lines of code)\n",
    "            ## Note\n",
    "            ## 1. Zero grad the optimizer\n",
    "            ## 2. Compute loss and backpropagate\n",
    "            ## 3. Update the model parameters\n",
    "            '''\n",
    "            至多6行代码，注意\n",
    "            1. 清零 optimizer 的梯度\n",
    "            2. 计算损失并反传播\n",
    "            3. 更新模型参数\n",
    "            '''\n",
    "            model.train() \n",
    "            optimizer.zero_grad()\n",
    "            p=model(batch)\n",
    "            #print(p.size())  torch.Size([3592])\n",
    "            #print(batch.edge_label.size())  torch.Size([3592])\n",
    "            loss=model.loss(p,batch.edge_label.float())  #第二个参数也可以用type_as(pred))\n",
    "            loss.backward()\n",
    "            optimizer.step()\n",
    "\n",
    "            ##########################################\n",
    "\n",
    "            log = 'Epoch: {:03d}, Train: {:.4f}, Val: {:.4f}, Test: {:.4f}, Loss: {}'\n",
    "            score_train = test(model, dataloaders['train'], args)\n",
    "            score_val = test(model, dataloaders['val'], args)\n",
    "            score_test = test(model, dataloaders['test'], args)\n",
    "\n",
    "            print(log.format(epoch, score_train, score_val, score_test, loss.item()))\n",
    "            if val_max < score_val:\n",
    "                val_max = score_val\n",
    "                best_model = copy.deepcopy(model)\n",
    "    return best_model\n",
    "\n",
    "def test(model, dataloader, args):\n",
    "    model.eval()\n",
    "\n",
    "    score = 0\n",
    "\n",
    "    ############# Your code here #############\n",
    "    ## (~5 lines of code)\n",
    "    ## Note\n",
    "    ## 1. Loop through batches in the dataloader\n",
    "    ## 2. Feed the batch to the model\n",
    "    ## 3. Feed the model output to sigmoid\n",
    "    ## 4. Compute the ROC-AUC score by using sklearn roc_auc_score function\n",
    "    ## 5. Edge labels are stored in batch.edge_label\n",
    "    '''\n",
    "    至多5行代码，注意：\n",
    "    1. 在 dataloader 中的 batch 上循环\n",
    "    2. 把 batch 喂给模型\n",
    "    3. 把输出喂给 sigmoid\n",
    "    4. 使用 sklearn 的 roc_auc_score 计算 ROC-AUC score\n",
    "    5. 边标签被保存在 batch.edge_label 中\n",
    "    '''\n",
    "    for batch in dataloader:  # 这个 dataloader 有点意思\n",
    "        batch.to(args[\"device\"])\n",
    "        p=model(batch)\n",
    "        #print(p.size())  torch.Size([2116])\n",
    "        #p=nn.Sigmoid(p)不知道为啥反正这个不行。看了一下答案改用torch.sigmoid了。以后再研究nn里面这个是怎么回事\n",
    "        p=torch.sigmoid(p)\n",
    "        p=p.cpu().detach().numpy()  #这后面跟的一堆是输出让我这么干的……\n",
    "        label=batch.edge_label.cpu().detach().numpy()\n",
    "        #print(p)\n",
    "        #print(label)\n",
    "        score+=roc_auc_score(label,p)\n",
    "    score=score/len(dataloader)\n",
    "    \n",
    "    ##########################################\n",
    " \n",
    "    return score"
   ]
  },
  {
   "cell_type": "markdown",
   "metadata": {},
   "source": [
    "让我们看看 dataloader"
   ]
  },
  {
   "cell_type": "code",
   "execution_count": 40,
   "metadata": {},
   "outputs": [
    {
     "data": {
      "text/plain": [
       "[(0,\n",
       "  Batch(G=[1], batch=[2708], edge_index=[2, 9498], edge_label=[2116], edge_label_index=[2, 2116], negative_label_val=[1], node_feature=[2708, 1433], node_label=[2708], node_label_index=[2708]))]"
      ]
     },
     "execution_count": 40,
     "metadata": {},
     "output_type": "execute_result"
    }
   ],
   "source": [
    "list(enumerate(dataloaders['test']))"
   ]
  },
  {
   "cell_type": "code",
   "execution_count": 41,
   "metadata": {
    "id": "JTKWYX1b33V3"
   },
   "outputs": [],
   "source": [
    "# Please don't change any parameters\n",
    "args = {\n",
    "    \"device\" : 'cuda' if torch.cuda.is_available() else 'cpu',\n",
    "    \"hidden_dim\" : 128,\n",
    "    \"epochs\" : 200,\n",
    "}"
   ]
  },
  {
   "cell_type": "code",
   "execution_count": 42,
   "metadata": {
    "id": "Klw_xYnE27xQ",
    "scrolled": true
   },
   "outputs": [
    {
     "name": "stdout",
     "output_type": "stream",
     "text": [
      "Epoch: 001, Train: 0.4936, Val: 0.4895, Test: 0.5179, Loss: 0.693097710609436\n",
      "Epoch: 002, Train: 0.5118, Val: 0.4901, Test: 0.5185, Loss: 0.6931264400482178\n",
      "Epoch: 003, Train: 0.5096, Val: 0.4910, Test: 0.5195, Loss: 0.6930535435676575\n",
      "Epoch: 004, Train: 0.5029, Val: 0.4926, Test: 0.5208, Loss: 0.6932375431060791\n",
      "Epoch: 005, Train: 0.5192, Val: 0.4944, Test: 0.5223, Loss: 0.6931326389312744\n",
      "Epoch: 006, Train: 0.5220, Val: 0.4967, Test: 0.5240, Loss: 0.6931107640266418\n",
      "Epoch: 007, Train: 0.5212, Val: 0.4988, Test: 0.5260, Loss: 0.6930847764015198\n",
      "Epoch: 008, Train: 0.5237, Val: 0.5010, Test: 0.5279, Loss: 0.6930482387542725\n",
      "Epoch: 009, Train: 0.5286, Val: 0.5036, Test: 0.5302, Loss: 0.6931102871894836\n",
      "Epoch: 010, Train: 0.5237, Val: 0.5061, Test: 0.5325, Loss: 0.6930323839187622\n",
      "Epoch: 011, Train: 0.5316, Val: 0.5089, Test: 0.5346, Loss: 0.6930333971977234\n",
      "Epoch: 012, Train: 0.5354, Val: 0.5117, Test: 0.5368, Loss: 0.6930197477340698\n",
      "Epoch: 013, Train: 0.5388, Val: 0.5145, Test: 0.5390, Loss: 0.6931341886520386\n",
      "Epoch: 014, Train: 0.5456, Val: 0.5171, Test: 0.5411, Loss: 0.692992627620697\n",
      "Epoch: 015, Train: 0.5499, Val: 0.5198, Test: 0.5432, Loss: 0.6929570436477661\n",
      "Epoch: 016, Train: 0.5453, Val: 0.5228, Test: 0.5451, Loss: 0.6928841471672058\n",
      "Epoch: 017, Train: 0.5558, Val: 0.5251, Test: 0.5468, Loss: 0.6929107904434204\n",
      "Epoch: 018, Train: 0.5622, Val: 0.5278, Test: 0.5484, Loss: 0.6929231882095337\n",
      "Epoch: 019, Train: 0.5664, Val: 0.5307, Test: 0.5501, Loss: 0.6928053498268127\n",
      "Epoch: 020, Train: 0.5614, Val: 0.5334, Test: 0.5517, Loss: 0.6928426623344421\n",
      "Epoch: 021, Train: 0.5722, Val: 0.5362, Test: 0.5532, Loss: 0.6927803158760071\n",
      "Epoch: 022, Train: 0.5794, Val: 0.5384, Test: 0.5546, Loss: 0.6927390098571777\n",
      "Epoch: 023, Train: 0.5716, Val: 0.5405, Test: 0.5557, Loss: 0.6927835941314697\n",
      "Epoch: 024, Train: 0.5945, Val: 0.5427, Test: 0.5571, Loss: 0.6926180720329285\n",
      "Epoch: 025, Train: 0.5783, Val: 0.5449, Test: 0.5579, Loss: 0.6927741765975952\n",
      "Epoch: 026, Train: 0.5844, Val: 0.5466, Test: 0.5587, Loss: 0.6926513314247131\n",
      "Epoch: 027, Train: 0.5796, Val: 0.5480, Test: 0.5593, Loss: 0.6927708387374878\n",
      "Epoch: 028, Train: 0.5816, Val: 0.5498, Test: 0.5599, Loss: 0.6925670504570007\n",
      "Epoch: 029, Train: 0.5894, Val: 0.5512, Test: 0.5603, Loss: 0.6925484538078308\n",
      "Epoch: 030, Train: 0.5990, Val: 0.5523, Test: 0.5604, Loss: 0.6925618052482605\n",
      "Epoch: 031, Train: 0.5843, Val: 0.5543, Test: 0.5608, Loss: 0.6924246549606323\n",
      "Epoch: 032, Train: 0.5934, Val: 0.5553, Test: 0.5610, Loss: 0.6923960447311401\n",
      "Epoch: 033, Train: 0.5980, Val: 0.5562, Test: 0.5612, Loss: 0.692370593547821\n",
      "Epoch: 034, Train: 0.6031, Val: 0.5574, Test: 0.5612, Loss: 0.6921793222427368\n",
      "Epoch: 035, Train: 0.6141, Val: 0.5580, Test: 0.5614, Loss: 0.6920871138572693\n",
      "Epoch: 036, Train: 0.6094, Val: 0.5587, Test: 0.5618, Loss: 0.6922408938407898\n",
      "Epoch: 037, Train: 0.6078, Val: 0.5593, Test: 0.5617, Loss: 0.6920081377029419\n",
      "Epoch: 038, Train: 0.6194, Val: 0.5600, Test: 0.5618, Loss: 0.691978394985199\n",
      "Epoch: 039, Train: 0.6026, Val: 0.5608, Test: 0.5617, Loss: 0.691880464553833\n",
      "Epoch: 040, Train: 0.6128, Val: 0.5610, Test: 0.5616, Loss: 0.6917164325714111\n",
      "Epoch: 041, Train: 0.6163, Val: 0.5611, Test: 0.5615, Loss: 0.6916483640670776\n",
      "Epoch: 042, Train: 0.6204, Val: 0.5611, Test: 0.5612, Loss: 0.6914930939674377\n",
      "Epoch: 043, Train: 0.6243, Val: 0.5612, Test: 0.5611, Loss: 0.6913250088691711\n",
      "Epoch: 044, Train: 0.6160, Val: 0.5614, Test: 0.5610, Loss: 0.6914781928062439\n",
      "Epoch: 045, Train: 0.6239, Val: 0.5614, Test: 0.5608, Loss: 0.6912053823471069\n",
      "Epoch: 046, Train: 0.6150, Val: 0.5615, Test: 0.5606, Loss: 0.6911072134971619\n",
      "Epoch: 047, Train: 0.6113, Val: 0.5619, Test: 0.5602, Loss: 0.6906386613845825\n",
      "Epoch: 048, Train: 0.6231, Val: 0.5622, Test: 0.5599, Loss: 0.6906437277793884\n",
      "Epoch: 049, Train: 0.6223, Val: 0.5625, Test: 0.5596, Loss: 0.6902940273284912\n",
      "Epoch: 050, Train: 0.6260, Val: 0.5626, Test: 0.5593, Loss: 0.6902180314064026\n",
      "Epoch: 051, Train: 0.6195, Val: 0.5628, Test: 0.5591, Loss: 0.6899886131286621\n",
      "Epoch: 052, Train: 0.6293, Val: 0.5628, Test: 0.5588, Loss: 0.6895205974578857\n",
      "Epoch: 053, Train: 0.6240, Val: 0.5630, Test: 0.5585, Loss: 0.6895909905433655\n",
      "Epoch: 054, Train: 0.6167, Val: 0.5634, Test: 0.5582, Loss: 0.6895143389701843\n",
      "Epoch: 055, Train: 0.6241, Val: 0.5639, Test: 0.5582, Loss: 0.6893620491027832\n",
      "Epoch: 056, Train: 0.6224, Val: 0.5646, Test: 0.5582, Loss: 0.6885669231414795\n",
      "Epoch: 057, Train: 0.6283, Val: 0.5653, Test: 0.5582, Loss: 0.6885576248168945\n",
      "Epoch: 058, Train: 0.6277, Val: 0.5662, Test: 0.5586, Loss: 0.6884379982948303\n",
      "Epoch: 059, Train: 0.6304, Val: 0.5674, Test: 0.5590, Loss: 0.6871933341026306\n",
      "Epoch: 060, Train: 0.6266, Val: 0.5688, Test: 0.5593, Loss: 0.6877344846725464\n",
      "Epoch: 061, Train: 0.6276, Val: 0.5697, Test: 0.5597, Loss: 0.6869826912879944\n",
      "Epoch: 062, Train: 0.6290, Val: 0.5710, Test: 0.5603, Loss: 0.6867790222167969\n",
      "Epoch: 063, Train: 0.6253, Val: 0.5725, Test: 0.5612, Loss: 0.6862095594406128\n",
      "Epoch: 064, Train: 0.6281, Val: 0.5739, Test: 0.5620, Loss: 0.685431718826294\n",
      "Epoch: 065, Train: 0.6333, Val: 0.5752, Test: 0.5628, Loss: 0.6844494342803955\n",
      "Epoch: 066, Train: 0.6203, Val: 0.5767, Test: 0.5636, Loss: 0.6838489174842834\n",
      "Epoch: 067, Train: 0.6312, Val: 0.5785, Test: 0.5646, Loss: 0.6843161582946777\n",
      "Epoch: 068, Train: 0.6360, Val: 0.5804, Test: 0.5659, Loss: 0.6832733750343323\n",
      "Epoch: 069, Train: 0.6417, Val: 0.5824, Test: 0.5672, Loss: 0.6815590858459473\n",
      "Epoch: 070, Train: 0.6335, Val: 0.5846, Test: 0.5690, Loss: 0.6816688776016235\n",
      "Epoch: 071, Train: 0.6423, Val: 0.5869, Test: 0.5709, Loss: 0.6795247793197632\n",
      "Epoch: 072, Train: 0.6398, Val: 0.5895, Test: 0.5731, Loss: 0.6794348955154419\n",
      "Epoch: 073, Train: 0.6425, Val: 0.5931, Test: 0.5757, Loss: 0.6783301830291748\n",
      "Epoch: 074, Train: 0.6411, Val: 0.5964, Test: 0.5788, Loss: 0.6768689155578613\n",
      "Epoch: 075, Train: 0.6543, Val: 0.6000, Test: 0.5819, Loss: 0.6748132705688477\n",
      "Epoch: 076, Train: 0.6503, Val: 0.6044, Test: 0.5856, Loss: 0.6737826466560364\n",
      "Epoch: 077, Train: 0.6531, Val: 0.6098, Test: 0.5896, Loss: 0.6722193360328674\n",
      "Epoch: 078, Train: 0.6584, Val: 0.6163, Test: 0.5947, Loss: 0.6707441806793213\n",
      "Epoch: 079, Train: 0.6772, Val: 0.6242, Test: 0.6022, Loss: 0.6716138124465942\n",
      "Epoch: 080, Train: 0.6835, Val: 0.6308, Test: 0.6101, Loss: 0.6673871278762817\n",
      "Epoch: 081, Train: 0.6895, Val: 0.6411, Test: 0.6176, Loss: 0.6645161509513855\n",
      "Epoch: 082, Train: 0.6794, Val: 0.6509, Test: 0.6255, Loss: 0.6635509729385376\n",
      "Epoch: 083, Train: 0.6959, Val: 0.6588, Test: 0.6332, Loss: 0.6599326729774475\n",
      "Epoch: 084, Train: 0.6960, Val: 0.6672, Test: 0.6396, Loss: 0.6576970815658569\n",
      "Epoch: 085, Train: 0.7171, Val: 0.6753, Test: 0.6464, Loss: 0.6559723019599915\n",
      "Epoch: 086, Train: 0.7165, Val: 0.6814, Test: 0.6518, Loss: 0.6519481539726257\n",
      "Epoch: 087, Train: 0.7219, Val: 0.6870, Test: 0.6567, Loss: 0.6501555442810059\n",
      "Epoch: 088, Train: 0.7139, Val: 0.6922, Test: 0.6603, Loss: 0.6475147604942322\n",
      "Epoch: 089, Train: 0.7205, Val: 0.6938, Test: 0.6628, Loss: 0.6421031951904297\n",
      "Epoch: 090, Train: 0.7217, Val: 0.6943, Test: 0.6661, Loss: 0.6378595232963562\n",
      "Epoch: 091, Train: 0.7241, Val: 0.6947, Test: 0.6695, Loss: 0.6319746971130371\n",
      "Epoch: 092, Train: 0.7268, Val: 0.6947, Test: 0.6728, Loss: 0.6299824118614197\n",
      "Epoch: 093, Train: 0.7254, Val: 0.6940, Test: 0.6765, Loss: 0.6322675347328186\n",
      "Epoch: 094, Train: 0.7320, Val: 0.6924, Test: 0.6790, Loss: 0.6268056631088257\n",
      "Epoch: 095, Train: 0.7266, Val: 0.6926, Test: 0.6811, Loss: 0.6297121644020081\n",
      "Epoch: 096, Train: 0.7266, Val: 0.6925, Test: 0.6835, Loss: 0.6261112689971924\n",
      "Epoch: 097, Train: 0.7295, Val: 0.6924, Test: 0.6860, Loss: 0.612703800201416\n",
      "Epoch: 098, Train: 0.7335, Val: 0.6913, Test: 0.6881, Loss: 0.6211438775062561\n",
      "Epoch: 099, Train: 0.7318, Val: 0.6932, Test: 0.6905, Loss: 0.6051510572433472\n",
      "Epoch: 100, Train: 0.7388, Val: 0.6958, Test: 0.6924, Loss: 0.6239871382713318\n",
      "Epoch: 101, Train: 0.7491, Val: 0.6974, Test: 0.6942, Loss: 0.6182085871696472\n",
      "Epoch: 102, Train: 0.7538, Val: 0.6954, Test: 0.6967, Loss: 0.6185314059257507\n",
      "Epoch: 103, Train: 0.7386, Val: 0.6938, Test: 0.6986, Loss: 0.6083545684814453\n",
      "Epoch: 104, Train: 0.7552, Val: 0.6957, Test: 0.7008, Loss: 0.6122649908065796\n",
      "Epoch: 105, Train: 0.7612, Val: 0.6997, Test: 0.7027, Loss: 0.6063608527183533\n",
      "Epoch: 106, Train: 0.7642, Val: 0.7028, Test: 0.7043, Loss: 0.6000321507453918\n",
      "Epoch: 107, Train: 0.7492, Val: 0.7041, Test: 0.7062, Loss: 0.6010614633560181\n",
      "Epoch: 108, Train: 0.7635, Val: 0.7043, Test: 0.7087, Loss: 0.6086742877960205\n",
      "Epoch: 109, Train: 0.7777, Val: 0.7061, Test: 0.7104, Loss: 0.5971571207046509\n",
      "Epoch: 110, Train: 0.7673, Val: 0.7078, Test: 0.7121, Loss: 0.5855087637901306\n",
      "Epoch: 111, Train: 0.7736, Val: 0.7079, Test: 0.7146, Loss: 0.5992025136947632\n",
      "Epoch: 112, Train: 0.7715, Val: 0.7079, Test: 0.7165, Loss: 0.592100977897644\n",
      "Epoch: 113, Train: 0.7758, Val: 0.7087, Test: 0.7181, Loss: 0.5927882790565491\n",
      "Epoch: 114, Train: 0.7813, Val: 0.7094, Test: 0.7197, Loss: 0.5921990871429443\n",
      "Epoch: 115, Train: 0.7898, Val: 0.7103, Test: 0.7208, Loss: 0.5812587141990662\n",
      "Epoch: 116, Train: 0.7914, Val: 0.7110, Test: 0.7221, Loss: 0.5825092196464539\n",
      "Epoch: 117, Train: 0.7909, Val: 0.7120, Test: 0.7231, Loss: 0.582130491733551\n",
      "Epoch: 118, Train: 0.7985, Val: 0.7128, Test: 0.7239, Loss: 0.5700425505638123\n",
      "Epoch: 119, Train: 0.7976, Val: 0.7119, Test: 0.7256, Loss: 0.5930836796760559\n",
      "Epoch: 120, Train: 0.8001, Val: 0.7105, Test: 0.7271, Loss: 0.5792627334594727\n",
      "Epoch: 121, Train: 0.7915, Val: 0.7097, Test: 0.7282, Loss: 0.5789697170257568\n",
      "Epoch: 122, Train: 0.7948, Val: 0.7100, Test: 0.7288, Loss: 0.5734590291976929\n",
      "Epoch: 123, Train: 0.7995, Val: 0.7132, Test: 0.7285, Loss: 0.5794345140457153\n",
      "Epoch: 124, Train: 0.8072, Val: 0.7157, Test: 0.7273, Loss: 0.5793410539627075\n",
      "Epoch: 125, Train: 0.8074, Val: 0.7154, Test: 0.7282, Loss: 0.5679181814193726\n",
      "Epoch: 126, Train: 0.8102, Val: 0.7146, Test: 0.7296, Loss: 0.5685127973556519\n",
      "Epoch: 127, Train: 0.8065, Val: 0.7132, Test: 0.7304, Loss: 0.5636032223701477\n",
      "Epoch: 128, Train: 0.8162, Val: 0.7140, Test: 0.7305, Loss: 0.5719448328018188\n",
      "Epoch: 129, Train: 0.8195, Val: 0.7154, Test: 0.7301, Loss: 0.5695672035217285\n",
      "Epoch: 130, Train: 0.8297, Val: 0.7165, Test: 0.7294, Loss: 0.5652405619621277\n",
      "Epoch: 131, Train: 0.8196, Val: 0.7186, Test: 0.7283, Loss: 0.5647231936454773\n",
      "Epoch: 132, Train: 0.8194, Val: 0.7188, Test: 0.7283, Loss: 0.5605946779251099\n",
      "Epoch: 133, Train: 0.8349, Val: 0.7181, Test: 0.7292, Loss: 0.5602841377258301\n",
      "Epoch: 134, Train: 0.8314, Val: 0.7159, Test: 0.7314, Loss: 0.558891773223877\n",
      "Epoch: 135, Train: 0.8342, Val: 0.7113, Test: 0.7326, Loss: 0.5574206113815308\n",
      "Epoch: 136, Train: 0.8281, Val: 0.7104, Test: 0.7329, Loss: 0.5643777847290039\n",
      "Epoch: 137, Train: 0.8307, Val: 0.7128, Test: 0.7329, Loss: 0.5597967505455017\n",
      "Epoch: 138, Train: 0.8425, Val: 0.7172, Test: 0.7309, Loss: 0.5540742874145508\n",
      "Epoch: 139, Train: 0.8464, Val: 0.7177, Test: 0.7305, Loss: 0.558671236038208\n",
      "Epoch: 140, Train: 0.8417, Val: 0.7164, Test: 0.7322, Loss: 0.5595206618309021\n",
      "Epoch: 141, Train: 0.8476, Val: 0.7111, Test: 0.7335, Loss: 0.5599959492683411\n",
      "Epoch: 142, Train: 0.8463, Val: 0.7101, Test: 0.7335, Loss: 0.551552951335907\n",
      "Epoch: 143, Train: 0.8395, Val: 0.7150, Test: 0.7337, Loss: 0.5522564649581909\n",
      "Epoch: 144, Train: 0.8456, Val: 0.7189, Test: 0.7321, Loss: 0.545596718788147\n",
      "Epoch: 145, Train: 0.8535, Val: 0.7197, Test: 0.7321, Loss: 0.5524365305900574\n",
      "Epoch: 146, Train: 0.8502, Val: 0.7184, Test: 0.7335, Loss: 0.5559386610984802\n",
      "Epoch: 147, Train: 0.8624, Val: 0.7170, Test: 0.7342, Loss: 0.5438705086708069\n",
      "Epoch: 148, Train: 0.8559, Val: 0.7156, Test: 0.7345, Loss: 0.5420002937316895\n",
      "Epoch: 149, Train: 0.8537, Val: 0.7168, Test: 0.7347, Loss: 0.5445127487182617\n",
      "Epoch: 150, Train: 0.8544, Val: 0.7194, Test: 0.7345, Loss: 0.544244110584259\n",
      "Epoch: 151, Train: 0.8628, Val: 0.7224, Test: 0.7335, Loss: 0.5448150038719177\n",
      "Epoch: 152, Train: 0.8639, Val: 0.7218, Test: 0.7344, Loss: 0.5410211682319641\n",
      "Epoch: 153, Train: 0.8633, Val: 0.7186, Test: 0.7346, Loss: 0.5427917838096619\n",
      "Epoch: 154, Train: 0.8771, Val: 0.7183, Test: 0.7348, Loss: 0.5364556908607483\n",
      "Epoch: 155, Train: 0.8788, Val: 0.7207, Test: 0.7349, Loss: 0.545050323009491\n",
      "Epoch: 156, Train: 0.8697, Val: 0.7243, Test: 0.7345, Loss: 0.5356318950653076\n",
      "Epoch: 157, Train: 0.8776, Val: 0.7248, Test: 0.7346, Loss: 0.5395656228065491\n",
      "Epoch: 158, Train: 0.8724, Val: 0.7227, Test: 0.7352, Loss: 0.5351245999336243\n",
      "Epoch: 159, Train: 0.8756, Val: 0.7188, Test: 0.7350, Loss: 0.5334091186523438\n",
      "Epoch: 160, Train: 0.8756, Val: 0.7190, Test: 0.7349, Loss: 0.5339988470077515\n",
      "Epoch: 161, Train: 0.8795, Val: 0.7250, Test: 0.7356, Loss: 0.5426658987998962\n",
      "Epoch: 162, Train: 0.8736, Val: 0.7307, Test: 0.7345, Loss: 0.5292650461196899\n",
      "Epoch: 163, Train: 0.8778, Val: 0.7327, Test: 0.7342, Loss: 0.5307627320289612\n",
      "Epoch: 164, Train: 0.8801, Val: 0.7301, Test: 0.7359, Loss: 0.5267025828361511\n",
      "Epoch: 165, Train: 0.8848, Val: 0.7251, Test: 0.7364, Loss: 0.524951696395874\n",
      "Epoch: 166, Train: 0.8914, Val: 0.7260, Test: 0.7366, Loss: 0.5256729125976562\n",
      "Epoch: 167, Train: 0.8932, Val: 0.7323, Test: 0.7373, Loss: 0.5296740531921387\n",
      "Epoch: 168, Train: 0.8884, Val: 0.7372, Test: 0.7368, Loss: 0.5295217633247375\n",
      "Epoch: 169, Train: 0.8948, Val: 0.7379, Test: 0.7376, Loss: 0.5206018686294556\n",
      "Epoch: 170, Train: 0.8962, Val: 0.7349, Test: 0.7393, Loss: 0.5172263383865356\n",
      "Epoch: 171, Train: 0.8961, Val: 0.7313, Test: 0.7399, Loss: 0.5223871469497681\n",
      "Epoch: 172, Train: 0.8977, Val: 0.7353, Test: 0.7408, Loss: 0.5161440968513489\n",
      "Epoch: 173, Train: 0.8928, Val: 0.7413, Test: 0.7407, Loss: 0.5210563540458679\n",
      "Epoch: 174, Train: 0.9009, Val: 0.7431, Test: 0.7417, Loss: 0.5189321041107178\n",
      "Epoch: 175, Train: 0.9009, Val: 0.7434, Test: 0.7430, Loss: 0.51385897397995\n",
      "Epoch: 176, Train: 0.9106, Val: 0.7434, Test: 0.7442, Loss: 0.5063255429267883\n",
      "Epoch: 177, Train: 0.8999, Val: 0.7411, Test: 0.7453, Loss: 0.5260626673698425\n",
      "Epoch: 178, Train: 0.9101, Val: 0.7454, Test: 0.7466, Loss: 0.5206044316291809\n",
      "Epoch: 179, Train: 0.9163, Val: 0.7521, Test: 0.7467, Loss: 0.5030105710029602\n",
      "Epoch: 180, Train: 0.9105, Val: 0.7555, Test: 0.7470, Loss: 0.5081433653831482\n",
      "Epoch: 181, Train: 0.9056, Val: 0.7558, Test: 0.7498, Loss: 0.5113940238952637\n",
      "Epoch: 182, Train: 0.9188, Val: 0.7542, Test: 0.7515, Loss: 0.504214882850647\n",
      "Epoch: 183, Train: 0.9123, Val: 0.7546, Test: 0.7525, Loss: 0.515285313129425\n",
      "Epoch: 184, Train: 0.9116, Val: 0.7589, Test: 0.7533, Loss: 0.5103608965873718\n",
      "Epoch: 185, Train: 0.9233, Val: 0.7611, Test: 0.7536, Loss: 0.5092403292655945\n",
      "Epoch: 186, Train: 0.9247, Val: 0.7622, Test: 0.7535, Loss: 0.49719420075416565\n",
      "Epoch: 187, Train: 0.9139, Val: 0.7614, Test: 0.7550, Loss: 0.49965280294418335\n",
      "Epoch: 188, Train: 0.9243, Val: 0.7588, Test: 0.7562, Loss: 0.4930703043937683\n",
      "Epoch: 189, Train: 0.9196, Val: 0.7588, Test: 0.7570, Loss: 0.5102493762969971\n",
      "Epoch: 190, Train: 0.9199, Val: 0.7598, Test: 0.7577, Loss: 0.5055065155029297\n",
      "Epoch: 191, Train: 0.9208, Val: 0.7623, Test: 0.7586, Loss: 0.505087673664093\n",
      "Epoch: 192, Train: 0.9239, Val: 0.7639, Test: 0.7595, Loss: 0.49737030267715454\n",
      "Epoch: 193, Train: 0.9312, Val: 0.7636, Test: 0.7603, Loss: 0.5033724904060364\n",
      "Epoch: 194, Train: 0.9219, Val: 0.7622, Test: 0.7602, Loss: 0.486166387796402\n",
      "Epoch: 195, Train: 0.9264, Val: 0.7604, Test: 0.7599, Loss: 0.4927672743797302\n",
      "Epoch: 196, Train: 0.9247, Val: 0.7619, Test: 0.7599, Loss: 0.4865192174911499\n",
      "Epoch: 197, Train: 0.9307, Val: 0.7650, Test: 0.7587, Loss: 0.48982104659080505\n",
      "Epoch: 198, Train: 0.9264, Val: 0.7649, Test: 0.7591, Loss: 0.49203675985336304\n",
      "Epoch: 199, Train: 0.9282, Val: 0.7631, Test: 0.7600, Loss: 0.5050609707832336\n",
      "Train: 0.9220, Val: 0.7650, Test: 0.7587\n"
     ]
    }
   ],
   "source": [
    "pyg_dataset = Planetoid('./datasets/cora', 'Cora')\n",
    "graphs = GraphDataset.pyg_to_graphs(pyg_dataset)\n",
    "\n",
    "dataset = GraphDataset(\n",
    "        graphs,\n",
    "        task='link_pred',\n",
    "        edge_train_mode=\"disjoint\"\n",
    "    )\n",
    "datasets = {}\n",
    "datasets['train'], datasets['val'], datasets['test']= dataset.split(\n",
    "            transductive=True, split_ratio=[0.85, 0.05, 0.1])\n",
    "input_dim = datasets['train'].num_node_features\n",
    "num_classes = datasets['train'].num_edge_labels\n",
    "\n",
    "model = LinkPredModel(input_dim, args[\"hidden_dim\"], num_classes).to(args[\"device\"])\n",
    "model.reset_parameters()\n",
    "\n",
    "optimizer = torch.optim.SGD(model.parameters(), lr=0.1, momentum=0.9, weight_decay=5e-4)\n",
    "\n",
    "dataloaders = {split: DataLoader(\n",
    "            ds, collate_fn=Batch.collate([]),\n",
    "            batch_size=1, shuffle=(split=='train'))\n",
    "            for split, ds in datasets.items()}\n",
    "best_model = train(model, dataloaders, optimizer, args)\n",
    "log = \"Train: {:.4f}, Val: {:.4f}, Test: {:.4f}\"\n",
    "best_train_roc = test(best_model, dataloaders['train'], args)\n",
    "best_val_roc = test(best_model, dataloaders['val'], args)\n",
    "best_test_roc = test(best_model, dataloaders['test'], args)\n",
    "print(log.format(best_train_roc, best_val_roc, best_test_roc))"
   ]
  },
  {
   "cell_type": "markdown",
   "metadata": {
    "id": "j5brlsKElP0_"
   },
   "source": [
    "## Question 4: What is the maximum ROC-AUC score you could get for the best_model on test set? (13 points)\n",
    "\n",
    "Submit your answers on Gradescope."
   ]
  },
  {
   "cell_type": "markdown",
   "metadata": {
    "id": "e7JXsMTBgeOI"
   },
   "source": [
    "# Submission\n",
    "\n",
    "In order to get credit, you must go submit your answers on Gradescope.\n",
    "\n",
    "Also, you need to submit the `ipynb` file of Colab 3, by clicking `File` and `Download .ipynb`. Please make sure that your output of each cell is available in your `ipynb` file."
   ]
  }
 ],
 "metadata": {
  "accelerator": "GPU",
  "colab": {
   "collapsed_sections": [],
   "machine_shape": "hm",
   "name": "CS224W - Colab 3.ipynb",
   "provenance": [],
   "toc_visible": true
  },
  "kernelspec": {
   "display_name": "Python 3",
   "language": "python",
   "name": "python3"
  },
  "language_info": {
   "codemirror_mode": {
    "name": "ipython",
    "version": 3
   },
   "file_extension": ".py",
   "mimetype": "text/x-python",
   "name": "python",
   "nbconvert_exporter": "python",
   "pygments_lexer": "ipython3",
   "version": "3.7.9"
  }
 },
 "nbformat": 4,
 "nbformat_minor": 4
}
